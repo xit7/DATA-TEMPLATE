{
 "cells": [
  {
   "cell_type": "markdown",
   "id": "300d51ed",
   "metadata": {},
   "source": [
    "# Probability & Odds\n",
    "\n",
    "| Concept | Formula | Range | Example | Interpretation |\n",
    "|----------|----------|--------|-----------|----------------|\n",
    "| **Probability (Wahrscheinlichkeit)** | $P = \\frac{\\text{\\# successes}}{\\text{\\# total}}$ | $0 \\to 1$ | Beim Würfeln eine 6 zu werfen:<br> $P(6) = \\frac{1}{6} \\approx 0.1667,  \\approx 16,7\\%$ | “16,7% chance of success” → misst, wie wahrscheinlich ein Ereignis eintritt. |\n",
    "| **Odds (Quoten)** | $O = \\frac{P(\\text{Erfolg})}{1 - P(\\text{Erfolg})}$ | $0 \\to \\infty$ | $\\text{Odds}(6) = \\frac{1/6}{5/6} = \\frac{1}{5} = 0{,}2$ | “About 1 success per 5 failures” (wegen Kehrwert 5/1) → misst das Verhältnis zwischen „Ereignis tritt ein“ und „Ereignis tritt nicht ein“. |\n",
    "| **Log-Odds (Logit)** | $\\text{logit}(P) = \\ln\\!\\left(\\frac{P}{1 - P}\\right)$ | $-\\infty \\to \\infty$ | $\\ln(0.2) = -1,609$ | Used by logistic regression → stellt eine lineare Beziehung her. |\n"
   ]
  },
  {
   "cell_type": "markdown",
   "id": "f56d0467",
   "metadata": {},
   "source": [
    "## Probability\n",
    "Assume a dataset:\n",
    "* 10000 values\n",
    "* 30% of the values are 1\n",
    "* 70% are 0\n",
    "\n",
    "If I pick randomly a value out of the dataset, how LIKELY is it, I pick 1 vs. 0?\n",
    "\n",
    "**Step 1: What we know**\n",
    "* Total number of observations: $N = 10{,}000$\n",
    "* Fraction of ones (class 1): $30\\% = 0.3$\n",
    "* Fraction of zeros (class 0): $70\\% = 0.7$\n",
    "\n",
    "**Step 2: Express as probabilities**\n",
    "When you draw a single item at random from the dataset, you’re sampling from a **discrete distribution**.\n",
    "\n",
    "$P(1) = \\frac{\\text{\\# of ones}}{N} = \\frac{0.3 \\times 10{,}000}{10{,}000} = 0.3$\n",
    "\n",
    "$P(0) = \\frac{\\text{\\# of zeros}}{N} = \\frac{0.7 \\times 10{,}000}{10{,}000} = 0.7$\n",
    "\n",
    "**Result:**\n",
    "* Chance of picking a 1 = 30%\n",
    "* Chance of picking a 0 = 70%\n",
    "\n",
    "## Odds\n",
    "Sometimes, especially in logistic regression, we use odds instead of probabilities.\n",
    "\n",
    "$\\text{Odds of 1} = \\frac{P(1)}{P(0)} = \\frac{0.3}{0.7} = 0.4286$\n",
    "\n",
    "**These odds mean:**\n",
    "“For every 1 that appears, about 2.33 zeros appear” (because 1 / 0.4286 ≈ 2.33).\n",
    "\n",
    "**And the log-odds would be:**\n",
    "$\\text{logit}(P(1)) = \\ln\\left(\\frac{P(1)}{P(0)}\\right) = \\ln(0.4286) = -0.847$"
   ]
  }
 ],
 "metadata": {
  "kernelspec": {
   "display_name": ".venv",
   "language": "python",
   "name": "python3"
  },
  "language_info": {
   "codemirror_mode": {
    "name": "ipython",
    "version": 3
   },
   "file_extension": ".py",
   "mimetype": "text/x-python",
   "name": "python",
   "nbconvert_exporter": "python",
   "pygments_lexer": "ipython3",
   "version": "3.11.3"
  }
 },
 "nbformat": 4,
 "nbformat_minor": 5
}
