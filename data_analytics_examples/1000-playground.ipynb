{
 "cells": [
  {
   "cell_type": "markdown",
   "id": "927e73c8",
   "metadata": {},
   "source": [
    "# Crosstab and contingency"
   ]
  },
  {
   "cell_type": "code",
   "execution_count": 1,
   "id": "8fa33e84",
   "metadata": {},
   "outputs": [
    {
     "data": {
      "application/vnd.microsoft.datawrangler.viewer.v0+json": {
       "columns": [
        {
         "name": "index",
         "rawType": "int64",
         "type": "integer"
        },
        {
         "name": "x",
         "rawType": "object",
         "type": "string"
        },
        {
         "name": "y",
         "rawType": "object",
         "type": "string"
        },
        {
         "name": "Class",
         "rawType": "object",
         "type": "string"
        }
       ],
       "ref": "831a6c73-9f62-4826-9dae-f58094218b92",
       "rows": [
        [
         "0",
         "p",
         "r",
         "c1"
        ],
        [
         "1",
         "p",
         "r",
         "c1"
        ],
        [
         "2",
         "p",
         "r",
         "c1"
        ],
        [
         "3",
         "q",
         "s",
         "c1"
        ],
        [
         "4",
         "p",
         "s",
         "c2"
        ],
        [
         "5",
         "q",
         "r",
         "c2"
        ],
        [
         "6",
         "q",
         "s",
         "c2"
        ],
        [
         "7",
         "q",
         "r",
         "c"
        ]
       ],
       "shape": {
        "columns": 3,
        "rows": 8
       }
      },
      "text/html": [
       "<div>\n",
       "<style scoped>\n",
       "    .dataframe tbody tr th:only-of-type {\n",
       "        vertical-align: middle;\n",
       "    }\n",
       "\n",
       "    .dataframe tbody tr th {\n",
       "        vertical-align: top;\n",
       "    }\n",
       "\n",
       "    .dataframe thead th {\n",
       "        text-align: right;\n",
       "    }\n",
       "</style>\n",
       "<table border=\"1\" class=\"dataframe\">\n",
       "  <thead>\n",
       "    <tr style=\"text-align: right;\">\n",
       "      <th></th>\n",
       "      <th>x</th>\n",
       "      <th>y</th>\n",
       "      <th>Class</th>\n",
       "    </tr>\n",
       "  </thead>\n",
       "  <tbody>\n",
       "    <tr>\n",
       "      <th>0</th>\n",
       "      <td>p</td>\n",
       "      <td>r</td>\n",
       "      <td>c1</td>\n",
       "    </tr>\n",
       "    <tr>\n",
       "      <th>1</th>\n",
       "      <td>p</td>\n",
       "      <td>r</td>\n",
       "      <td>c1</td>\n",
       "    </tr>\n",
       "    <tr>\n",
       "      <th>2</th>\n",
       "      <td>p</td>\n",
       "      <td>r</td>\n",
       "      <td>c1</td>\n",
       "    </tr>\n",
       "    <tr>\n",
       "      <th>3</th>\n",
       "      <td>q</td>\n",
       "      <td>s</td>\n",
       "      <td>c1</td>\n",
       "    </tr>\n",
       "    <tr>\n",
       "      <th>4</th>\n",
       "      <td>p</td>\n",
       "      <td>s</td>\n",
       "      <td>c2</td>\n",
       "    </tr>\n",
       "    <tr>\n",
       "      <th>5</th>\n",
       "      <td>q</td>\n",
       "      <td>r</td>\n",
       "      <td>c2</td>\n",
       "    </tr>\n",
       "    <tr>\n",
       "      <th>6</th>\n",
       "      <td>q</td>\n",
       "      <td>s</td>\n",
       "      <td>c2</td>\n",
       "    </tr>\n",
       "    <tr>\n",
       "      <th>7</th>\n",
       "      <td>q</td>\n",
       "      <td>r</td>\n",
       "      <td>c</td>\n",
       "    </tr>\n",
       "  </tbody>\n",
       "</table>\n",
       "</div>"
      ],
      "text/plain": [
       "   x  y Class\n",
       "0  p  r    c1\n",
       "1  p  r    c1\n",
       "2  p  r    c1\n",
       "3  q  s    c1\n",
       "4  p  s    c2\n",
       "5  q  r    c2\n",
       "6  q  s    c2\n",
       "7  q  r     c"
      ]
     },
     "execution_count": 1,
     "metadata": {},
     "output_type": "execute_result"
    }
   ],
   "source": [
    "import pandas as pd\n",
    "\n",
    "# Create the dataframe\n",
    "data = {\n",
    "    \"x\": [\"p\", \"p\", \"p\", \"q\", \"p\", \"q\", \"q\", \"q\"],\n",
    "    \"y\": [\"r\", \"r\", \"r\", \"s\", \"s\", \"r\", \"s\", \"r\"],\n",
    "    \"Class\": [\"c1\", \"c1\", \"c1\", \"c1\", \"c2\", \"c2\", \"c2\", \"c\"]\n",
    "}\n",
    "\n",
    "df = pd.DataFrame(data)\n",
    "df"
   ]
  },
  {
   "cell_type": "code",
   "execution_count": 5,
   "id": "e677b12a",
   "metadata": {},
   "outputs": [
    {
     "data": {
      "application/vnd.microsoft.datawrangler.viewer.v0+json": {
       "columns": [
        {
         "name": "('x', 'y', 'Class')",
         "rawType": "object",
         "type": "unknown"
        },
        {
         "name": "count",
         "rawType": "int64",
         "type": "integer"
        }
       ],
       "ref": "5d9128ed-1693-4334-abf9-099094fa87e0",
       "rows": [
        [
         "('p', 'r', 'c1')",
         "3"
        ],
        [
         "('p', 's', 'c2')",
         "1"
        ],
        [
         "('q', 'r', 'c')",
         "1"
        ],
        [
         "('q', 'r', 'c2')",
         "1"
        ],
        [
         "('q', 's', 'c1')",
         "1"
        ],
        [
         "('q', 's', 'c2')",
         "1"
        ]
       ],
       "shape": {
        "columns": 1,
        "rows": 6
       }
      },
      "text/plain": [
       "x  y  Class\n",
       "p  r  c1       3\n",
       "   s  c2       1\n",
       "q  r  c        1\n",
       "      c2       1\n",
       "   s  c1       1\n",
       "      c2       1\n",
       "Name: count, dtype: int64"
      ]
     },
     "execution_count": 5,
     "metadata": {},
     "output_type": "execute_result"
    }
   ],
   "source": [
    "df.value_counts()"
   ]
  },
  {
   "cell_type": "code",
   "execution_count": 6,
   "id": "5aaa0926",
   "metadata": {},
   "outputs": [
    {
     "data": {
      "application/vnd.microsoft.datawrangler.viewer.v0+json": {
       "columns": [
        {
         "name": "('x', 'y')",
         "rawType": "object",
         "type": "unknown"
        },
        {
         "name": "c",
         "rawType": "int64",
         "type": "integer"
        },
        {
         "name": "c1",
         "rawType": "int64",
         "type": "integer"
        },
        {
         "name": "c2",
         "rawType": "int64",
         "type": "integer"
        }
       ],
       "ref": "0983d0c0-14c8-4e2b-ad40-4164459f9529",
       "rows": [
        [
         "('p', 'r')",
         "0",
         "3",
         "0"
        ],
        [
         "('p', 's')",
         "0",
         "0",
         "1"
        ],
        [
         "('q', 'r')",
         "1",
         "0",
         "1"
        ],
        [
         "('q', 's')",
         "0",
         "1",
         "1"
        ]
       ],
       "shape": {
        "columns": 3,
        "rows": 4
       }
      },
      "text/html": [
       "<div>\n",
       "<style scoped>\n",
       "    .dataframe tbody tr th:only-of-type {\n",
       "        vertical-align: middle;\n",
       "    }\n",
       "\n",
       "    .dataframe tbody tr th {\n",
       "        vertical-align: top;\n",
       "    }\n",
       "\n",
       "    .dataframe thead th {\n",
       "        text-align: right;\n",
       "    }\n",
       "</style>\n",
       "<table border=\"1\" class=\"dataframe\">\n",
       "  <thead>\n",
       "    <tr style=\"text-align: right;\">\n",
       "      <th></th>\n",
       "      <th>Class</th>\n",
       "      <th>c</th>\n",
       "      <th>c1</th>\n",
       "      <th>c2</th>\n",
       "    </tr>\n",
       "    <tr>\n",
       "      <th>x</th>\n",
       "      <th>y</th>\n",
       "      <th></th>\n",
       "      <th></th>\n",
       "      <th></th>\n",
       "    </tr>\n",
       "  </thead>\n",
       "  <tbody>\n",
       "    <tr>\n",
       "      <th rowspan=\"2\" valign=\"top\">p</th>\n",
       "      <th>r</th>\n",
       "      <td>0</td>\n",
       "      <td>3</td>\n",
       "      <td>0</td>\n",
       "    </tr>\n",
       "    <tr>\n",
       "      <th>s</th>\n",
       "      <td>0</td>\n",
       "      <td>0</td>\n",
       "      <td>1</td>\n",
       "    </tr>\n",
       "    <tr>\n",
       "      <th rowspan=\"2\" valign=\"top\">q</th>\n",
       "      <th>r</th>\n",
       "      <td>1</td>\n",
       "      <td>0</td>\n",
       "      <td>1</td>\n",
       "    </tr>\n",
       "    <tr>\n",
       "      <th>s</th>\n",
       "      <td>0</td>\n",
       "      <td>1</td>\n",
       "      <td>1</td>\n",
       "    </tr>\n",
       "  </tbody>\n",
       "</table>\n",
       "</div>"
      ],
      "text/plain": [
       "Class  c  c1  c2\n",
       "x y             \n",
       "p r    0   3   0\n",
       "  s    0   0   1\n",
       "q r    1   0   1\n",
       "  s    0   1   1"
      ]
     },
     "execution_count": 6,
     "metadata": {},
     "output_type": "execute_result"
    }
   ],
   "source": [
    "# Create contingency table: counts of x,y combinations vs Class\n",
    "contingency_table = pd.crosstab(index=[df[\"x\"], df[\"y\"]], columns=df[\"Class\"])\n",
    "contingency_table"
   ]
  }
 ],
 "metadata": {
  "kernelspec": {
   "display_name": ".venv",
   "language": "python",
   "name": "python3"
  },
  "language_info": {
   "codemirror_mode": {
    "name": "ipython",
    "version": 3
   },
   "file_extension": ".py",
   "mimetype": "text/x-python",
   "name": "python",
   "nbconvert_exporter": "python",
   "pygments_lexer": "ipython3",
   "version": "3.11.3"
  }
 },
 "nbformat": 4,
 "nbformat_minor": 5
}
