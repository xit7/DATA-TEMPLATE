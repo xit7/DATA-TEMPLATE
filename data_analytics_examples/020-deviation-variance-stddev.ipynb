{
 "cells": [
  {
   "cell_type": "markdown",
   "id": "c3a61332",
   "metadata": {},
   "source": [
    "# Deviation, Variance, and Standard Deviation\n",
    "\n",
    "## Deviation\n",
    "**Definition**: The difference between an individual data point and the mean of the dataset.\n",
    "\n",
    "**Formula**\n",
    "$\\text{Deviation} = x_i - \\bar{x}$\n",
    "\n",
    "Where:\n",
    "* $x_i$ is a data point\n",
    "* $\\bar{x}$ is the mean of the dataset\n",
    "\n",
    "Example:\n",
    "If the mean is 10 and a data point is 12, the deviation is 12 - 10 = 2\n",
    "\n",
    "\n",
    "## Variance\n",
    "**Definition**: The average of the squared deviations from the mean. It tells you how spread out the data is.\n",
    "**Formula**:\n",
    "\n",
    "$\\text{Variance} = \\frac{1}{n} \\sum (x_i - \\bar{x})^2 \\quad \\text{(for population)}$\n",
    "\n",
    "or\n",
    "\n",
    "$\\text{Variance} = \\frac{1}{n - 1} \\sum (x_i - \\bar{x})^2 \\quad \\text{(for sample)}$\n",
    "\n",
    "Why squared?\n",
    "* Squaring ensures all values are positive.\n",
    "* It penalizes large deviations more than small ones.\n",
    "\n",
    "## Standard Deviation\n",
    "**Definition**: The square root of the variance — it brings the value back to the original units of the data.\n",
    "**Formula**:\n",
    "\n",
    "$\\text{Standard Deviation} = \\sqrt{\\text{Variance}}$\n",
    "\n",
    "**Use**: Often more interpretable than variance because it’s in the same unit as the original data.\n",
    "\n",
    "## Mini Example\n",
    "Suppose we have data:\n",
    "x = [4, 8, 6]\n",
    "1. Mean:\n",
    "$\\bar{x} = \\frac{4 + 8 + 6}{3} = 6$\n",
    "\n",
    "2.\tDeviations:\n",
    "$[4 - 6, 8 - 6, 6 - 6] = [-2, 2, 0]$\n",
    "\n",
    "3.\tSquared Deviations:\n",
    "$[(-2)^2, 2^2, 0^2] = [4, 4, 0]$\n",
    "\n",
    "4.\tVariance (population):\n",
    "$\\frac{4 + 4 + 0}{3} = 2.67$\n",
    "\n",
    "5.\tStandard Deviation:\n",
    "$\\sqrt{2.67} \\approx 1.63$"
   ]
  },
  {
   "cell_type": "code",
   "execution_count": 2,
   "id": "69e1db15",
   "metadata": {},
   "outputs": [
    {
     "data": {
      "image/png": "[encoded data removed]",
      "text/plain": [
       "<Figure size 800x500 with 1 Axes>"
      ]
     },
     "metadata": {},
     "output_type": "display_data"
    },
    {
     "name": "stdout",
     "output_type": "stream",
     "text": [
      "Data:                [4, 8, 6]\n",
      "Mean:                6.0\n",
      "Deviations:          [np.float64(-2.0), np.float64(2.0), np.float64(0.0)]\n",
      "Squared Deviations:  [np.float64(4.0), np.float64(4.0), np.float64(0.0)]\n",
      "Variance:            2.67\n",
      "Standard Deviation:  1.63\n"
     ]
    }
   ],
   "source": [
    "import numpy as np\n",
    "import matplotlib.pyplot as plt\n",
    "\n",
    "# Sample data\n",
    "data = [4, 8, 6]\n",
    "mean = np.mean(data)\n",
    "\n",
    "# Compute deviations\n",
    "deviations = [x - mean for x in data]\n",
    "squared_deviations = [(x - mean)**2 for x in data]\n",
    "variance = np.mean(squared_deviations)\n",
    "std_dev = np.sqrt(variance)\n",
    "\n",
    "# Plotting\n",
    "plt.figure(figsize=(8, 5))\n",
    "plt.axhline(mean, color='gray', linestyle='--', label=f\"Mean = {mean:.2f}\")\n",
    "plt.scatter(range(len(data)), data, color='blue', zorder=5)\n",
    "\n",
    "# Annotate each point with a red arrow and deviation label\n",
    "for i, val in enumerate(data):\n",
    "    # Draw red arrow from mean to data point\n",
    "    plt.plot([i, i], [mean, val], color='red', linewidth=2)\n",
    "    \n",
    "    # Label the deviation\n",
    "    deviation = val - mean\n",
    "    plt.text(i + 0.05, (mean + val) / 2, f\"{deviation:+.2f}\", color='red', fontsize=10)\n",
    "\n",
    "# Labels and grid\n",
    "plt.xticks(range(len(data)), [f\"x{i+1}\" for i in range(len(data))])\n",
    "plt.ylabel(\"Value\")\n",
    "plt.title(\"Deviation from the Mean\")\n",
    "plt.legend()\n",
    "plt.grid(True)\n",
    "plt.tight_layout()\n",
    "plt.show()\n",
    "\n",
    "# Print numerical results\n",
    "print(\"Data:               \", data)\n",
    "print(\"Mean:               \", round(mean, 2))\n",
    "print(\"Deviations:         \", [round(d, 2) for d in deviations])\n",
    "print(\"Squared Deviations: \", [round(sd, 2) for sd in squared_deviations])\n",
    "print(\"Variance:           \", round(variance, 2))\n",
    "print(\"Standard Deviation: \", round(std_dev, 2))"
   ]
  }
 ],
 "metadata": {
  "kernelspec": {
   "display_name": ".venv",
   "language": "python",
   "name": "python3"
  },
  "language_info": {
   "codemirror_mode": {
    "name": "ipython",
    "version": 3
   },
   "file_extension": ".py",
   "mimetype": "text/x-python",
   "name": "python",
   "nbconvert_exporter": "python",
   "pygments_lexer": "ipython3",
   "version": "3.12.4"
  }
 },
 "nbformat": 4,
 "nbformat_minor": 5
}
