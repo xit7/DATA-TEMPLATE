{
 "cells": [
  {
   "cell_type": "markdown",
   "id": "b5f63405",
   "metadata": {},
   "source": [
    "# How to think like a data scientist\n",
    "\n",
    "1. **Clean the data**. Do not assume data is clean\n",
    "2. **Normalize**. Let's say you're making a list of popular wedding destinations. You could count the number of people flying in for a wedding, but unless you consider the total number of air travellers coming to that city as well, you'll just get a list of cities with busy airports.\n",
    "3. **Consider Outliers**. Excluding outliers can be a mistake, as well as just including them without a doubt. Outliers can hold important information (e.g. customers that use your product much mor often than the average → leads to **qualitative insights**). But they are not good for **building a model**.\n",
    "4. **Consider Seasonality**\n",
    "5. **Consider Context**. Do not ignore size when reporting growth. E.g. when you are just starting your product, technically, your dad signing up count as doubling your user base.\"\n",
    "6. **Avoid data vomit**. A dashboard is not of much use, if you do not know where to look.\n",
    "7. **Avoid metrics that cry wolf**. If you set alarms with a too low threshold, they get sensitive and \"whiny\", you'll start to ignore them.\n",
    "8. **Combine data from other sources**. Do not develop the \"not collected here\" syndrome and gain insights from mashing up data.\n",
    "9. **Do not focus on noise**. We as humans see patterns everywhere, because we are \"hardwired\" like that. Do not develop **vanity metrics**, step back, and look at the bigger picture.\n",
    "\n",
    "# OMTM One Metric That Matters\n"
   ]
  }
 ],
 "metadata": {
  "language_info": {
   "name": "python"
  }
 },
 "nbformat": 4,
 "nbformat_minor": 5
}
