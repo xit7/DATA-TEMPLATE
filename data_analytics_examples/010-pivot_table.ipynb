{
 "cells": [
  {
   "cell_type": "markdown",
   "id": "3eb23d13",
   "metadata": {},
   "source": [
    "# Pivot tables\n",
    "\n",
    "> A pivot table is a data summarization tool that reorganizes and aggregates data so you can analyze it more easily.\n",
    "* It lets you **group data by one or more keys** (rows, columns).\n",
    "* It applies an **aggregation** function (sum, mean, count, etc.) to values."
   ]
  },
  {
   "cell_type": "markdown",
   "id": "79bbeb36",
   "metadata": {},
   "source": [
    "## Example\n",
    "Imagine we have an e-commerce dataset with orders:\n",
    "* **Region** → where the order came from\n",
    "* **Category** → product category\n",
    "* **Sales** → revenue amount\n",
    "* **Quantity** → number of units sold"
   ]
  },
  {
   "cell_type": "code",
   "execution_count": 3,
   "id": "fc5f4bac",
   "metadata": {},
   "outputs": [
    {
     "name": "stdout",
     "output_type": "stream",
     "text": [
      "<bound method DataFrame.to_string of   Region     Category  Sales  Quantity\n",
      "0  North  Electronics   1200         3\n",
      "1  North     Clothing    300         5\n",
      "2  South     Clothing    150         2\n",
      "3  South  Electronics   2000         7\n",
      "4   East     Clothing    500         4\n",
      "5   East  Electronics    700         6\n",
      "6   West     Clothing    400         2\n",
      "7   West  Electronics   1000         3\n",
      "8  North  Electronics   2200         8\n",
      "9  South     Clothing    600         1>\n",
      "         Quantity                Sales            \n",
      "Category Clothing Electronics Clothing Electronics\n",
      "Region                                            \n",
      "East            4           6    500.0       700.0\n",
      "North           5          11    300.0      1700.0\n",
      "South           3           7    375.0      2000.0\n",
      "West            2           3    400.0      1000.0\n"
     ]
    }
   ],
   "source": [
    "import pandas as pd\n",
    "\n",
    "# Example dataset\n",
    "data = {\n",
    "    \"Region\": [\"North\", \"North\", \"South\", \"South\", \"East\", \"East\", \"West\", \"West\", \"North\", \"South\"],\n",
    "    \"Category\": [\"Electronics\", \"Clothing\", \"Clothing\", \"Electronics\", \"Clothing\", \"Electronics\", \"Clothing\", \"Electronics\", \"Electronics\", \"Clothing\"],\n",
    "    \"Sales\": [1200, 300, 150, 2000, 500, 700, 400, 1000, 2200, 600],\n",
    "    \"Quantity\": [3, 5, 2, 7, 4, 6, 2, 3, 8, 1]\n",
    "}\n",
    "\n",
    "df = pd.DataFrame(data)\n",
    "\n",
    "print(df.to_string)\n",
    "\n",
    "# Create a pivot table:\n",
    "pivot = pd.pivot_table(\n",
    "    df,\n",
    "    values=[\"Sales\", \"Quantity\"],                   # what to aggregate\n",
    "    index=\"Region\",                                 # rows\n",
    "    columns=\"Category\",                             # columns\n",
    "    aggfunc={\"Sales\": \"mean\", \"Quantity\": \"sum\"},   # different aggregations\n",
    "    fill_value=0                                    # fill missing combos with 0\n",
    ")\n",
    "\n",
    "print(pivot)"
   ]
  }
 ],
 "metadata": {
  "kernelspec": {
   "display_name": ".venv",
   "language": "python",
   "name": "python3"
  },
  "language_info": {
   "codemirror_mode": {
    "name": "ipython",
    "version": 3
   },
   "file_extension": ".py",
   "mimetype": "text/x-python",
   "name": "python",
   "nbconvert_exporter": "python",
   "pygments_lexer": "ipython3",
   "version": "3.11.3"
  }
 },
 "nbformat": 4,
 "nbformat_minor": 5
}
