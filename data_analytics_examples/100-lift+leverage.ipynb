{
 "cells": [
  {
   "cell_type": "markdown",
   "id": "53b306a6",
   "metadata": {},
   "source": [
    "# Lift & Leverage\n",
    "\n",
    "## Lift\n",
    "> **Definition**: Lift measures how much more frequently two items A and B occur together than if they were independent.\n",
    "> When analyzing associations (e.g., items bought together in a store), we want to know whether two items occur together **more often than we’d expect by chance**\n",
    "> \n",
    "> **Lift tells us the strength of the association**.\n",
    "\n",
    "**Formula**:\n",
    "$$\\text{Lift}(A, B) = \\frac{P(A, B)}{P(A) \\cdot P(B)}$$\n",
    "\n",
    "**Interpretation**:\n",
    "* **Lift = 1** → no association (independent)\n",
    "* **Lift > 1** → positive association (co-occurrence stronger than chance)\n",
    "* **Lift < 1** → negative association (co-occurrence weaker than chance)"
   ]
  },
  {
   "cell_type": "markdown",
   "id": "ad97e81b",
   "metadata": {},
   "source": [
    "## Leverage\n",
    "\n",
    "> **Definition**: Leverage measures the difference between the observed co-occurrence of A and B and what we’d expect if they were independent.\n",
    ">  (multiplicative measure).\n",
    ">\n",
    "> **Leverage tells us the absolute difference from independence (additive measure).**\n",
    "\n",
    "**Formula**:\n",
    "$$\\text{Leverage}(A, B) = P(A, B) - P(A) \\cdot P(B)$$\n",
    "\n",
    "**Interpretation**:\n",
    "* **Leverage = 0** → no association (independent)\n",
    "* **Positive value** → items occur together more than expected\n",
    "* **Negative value** → items occur together less than expected"
   ]
  },
  {
   "cell_type": "markdown",
   "id": "d344edc9",
   "metadata": {},
   "source": [
    "## Examples with numbers\n",
    "\n",
    "Suppose in 1,000 transactions:\n",
    "* P(Milk) = 0.2\n",
    "* P(Bread) = 0.25\n",
    "* P(Milk, Bread) = 0.1\n",
    "\n",
    "**Lift**:\n",
    "$\\text{Lift}(Milk, Bread) = \\frac{0.1}{0.2 \\times 0.25} = \\frac{0.1}{0.05} = 2$\n",
    "\n",
    "**Leverage**:\n",
    "$\\text{Leverage}(Milk, Bread) = 0.1 - (0.2 \\times 0.25) = 0.1 - 0.05 = 0.05$"
   ]
  },
  {
   "cell_type": "markdown",
   "id": "01c8873c",
   "metadata": {},
   "source": [
    "## Code Example 1: Simple Calculation"
   ]
  },
  {
   "cell_type": "code",
   "execution_count": 1,
   "id": "fbde3d11",
   "metadata": {},
   "outputs": [
    {
     "name": "stdout",
     "output_type": "stream",
     "text": [
      "Lift(Milk, Bread) = 2.00\n",
      "Leverage(Milk, Bread) = 0.05\n"
     ]
    }
   ],
   "source": [
    "# Example 1: Simple lift and leverage calculation\n",
    "\n",
    "# Probabilities\n",
    "p_A = 0.2   # P(Milk)\n",
    "p_B = 0.25  # P(Bread)\n",
    "p_AB = 0.1  # P(Milk and Bread)\n",
    "\n",
    "# Lift\n",
    "lift = p_AB / (p_A * p_B)\n",
    "\n",
    "# Leverage\n",
    "leverage = p_AB - (p_A * p_B)\n",
    "\n",
    "print(f\"Lift(Milk, Bread) = {lift:.2f}\")\n",
    "print(f\"Leverage(Milk, Bread) = {leverage:.2f}\")"
   ]
  },
  {
   "cell_type": "markdown",
   "id": "c6664000",
   "metadata": {},
   "source": [
    "## Code Example 2: From Transaction Data"
   ]
  },
  {
   "cell_type": "code",
   "execution_count": 2,
   "id": "ee335192",
   "metadata": {},
   "outputs": [
    {
     "name": "stdout",
     "output_type": "stream",
     "text": [
      "P(Milk) = 0.70, P(Bread) = 0.70, P(Milk, Bread) = 0.40\n",
      "Lift(Milk, Bread) = 0.82\n",
      "Leverage(Milk, Bread) = -0.09\n"
     ]
    }
   ],
   "source": [
    "import pandas as pd\n",
    "\n",
    "# Example 2: Compute lift and leverage from transaction dataset\n",
    "transactions = [\n",
    "    [\"Milk\", \"Bread\"],\n",
    "    [\"Milk\"],\n",
    "    [\"Bread\"],\n",
    "    [\"Milk\", \"Bread\"],\n",
    "    [\"Milk\", \"Eggs\"],\n",
    "    [\"Bread\", \"Eggs\"],\n",
    "    [\"Milk\", \"Bread\", \"Eggs\"],\n",
    "    [\"Bread\"],\n",
    "    [\"Milk\"],\n",
    "    [\"Milk\", \"Bread\"]\n",
    "]\n",
    "\n",
    "# Convert to DataFrame (one-hot encoded format)\n",
    "df = pd.DataFrame([{item: (item in t) for item in [\"Milk\", \"Bread\", \"Eggs\"]} for t in transactions])\n",
    "\n",
    "# Probabilities\n",
    "p_A = df[\"Milk\"].mean()\n",
    "p_B = df[\"Bread\"].mean()\n",
    "p_AB = (df[\"Milk\"] & df[\"Bread\"]).mean()\n",
    "\n",
    "# Lift and Leverage\n",
    "lift = p_AB / (p_A * p_B)\n",
    "leverage = p_AB - (p_A * p_B)\n",
    "\n",
    "print(f\"P(Milk) = {p_A:.2f}, P(Bread) = {p_B:.2f}, P(Milk, Bread) = {p_AB:.2f}\")\n",
    "print(f\"Lift(Milk, Bread) = {lift:.2f}\")\n",
    "print(f\"Leverage(Milk, Bread) = {leverage:.2f}\")"
   ]
  }
 ],
 "metadata": {
  "kernelspec": {
   "display_name": ".venv",
   "language": "python",
   "name": "python3"
  },
  "language_info": {
   "codemirror_mode": {
    "name": "ipython",
    "version": 3
   },
   "file_extension": ".py",
   "mimetype": "text/x-python",
   "name": "python",
   "nbconvert_exporter": "python",
   "pygments_lexer": "ipython3",
   "version": "3.11.3"
  }
 },
 "nbformat": 4,
 "nbformat_minor": 5
}
