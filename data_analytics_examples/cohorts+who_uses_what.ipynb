{
 "cells": [
  {
   "cell_type": "markdown",
   "id": "8654371a",
   "metadata": {},
   "source": [
    "\n",
    "# Which user groups perform what action\n",
    "To find which user segments (e.g., male vs female, age groups, hometowns) are more likely to perform certain actions (like posting content, buying, etc.), you can apply a mix of exploratory data analysis, statistical testing, and predictive modeling.\n",
    "\n",
    "A comprehensive Python example walking through these steps using a synthetic dataset. It includes:\n",
    "* Exploratory analysis (group-by & action rates)\n",
    "* Statistical significance testing (Chi-square for gender & action)\n",
    "* Predictive modeling (logistic regression + feature importance)\n",
    "* Interpretation notes and comments at every step"
   ]
  },
  {
   "cell_type": "markdown",
   "id": "f926099a",
   "metadata": {},
   "source": [
    "## Imports & Sample Data Creation"
   ]
  },
  {
   "cell_type": "code",
   "execution_count": 40,
   "id": "b30f2e8b",
   "metadata": {},
   "outputs": [
    {
     "data": {
      "application/vnd.microsoft.datawrangler.viewer.v0+json": {
       "columns": [
        {
         "name": "index",
         "rawType": "int64",
         "type": "integer"
        },
        {
         "name": "user_id",
         "rawType": "int64",
         "type": "integer"
        },
        {
         "name": "gender",
         "rawType": "object",
         "type": "string"
        },
        {
         "name": "age",
         "rawType": "int64",
         "type": "integer"
        },
        {
         "name": "hometown",
         "rawType": "object",
         "type": "string"
        },
        {
         "name": "action_flag",
         "rawType": "int64",
         "type": "integer"
        }
       ],
       "ref": "590e69dc-5cf9-4fd0-b7c0-0676bad0b171",
       "rows": [
        [
         "0",
         "1",
         "Male",
         "29",
         "TownB",
         "0"
        ],
        [
         "1",
         "2",
         "Female",
         "33",
         "TownB",
         "1"
        ],
        [
         "2",
         "3",
         "Female",
         "41",
         "TownA",
         "0"
        ],
        [
         "3",
         "4",
         "Female",
         "36",
         "TownA",
         "0"
        ],
        [
         "4",
         "5",
         "Male",
         "25",
         "TownC",
         "0"
        ]
       ],
       "shape": {
        "columns": 5,
        "rows": 5
       }
      },
      "text/html": [
       "<div>\n",
       "<style scoped>\n",
       "    .dataframe tbody tr th:only-of-type {\n",
       "        vertical-align: middle;\n",
       "    }\n",
       "\n",
       "    .dataframe tbody tr th {\n",
       "        vertical-align: top;\n",
       "    }\n",
       "\n",
       "    .dataframe thead th {\n",
       "        text-align: right;\n",
       "    }\n",
       "</style>\n",
       "<table border=\"1\" class=\"dataframe\">\n",
       "  <thead>\n",
       "    <tr style=\"text-align: right;\">\n",
       "      <th></th>\n",
       "      <th>user_id</th>\n",
       "      <th>gender</th>\n",
       "      <th>age</th>\n",
       "      <th>hometown</th>\n",
       "      <th>action_flag</th>\n",
       "    </tr>\n",
       "  </thead>\n",
       "  <tbody>\n",
       "    <tr>\n",
       "      <th>0</th>\n",
       "      <td>1</td>\n",
       "      <td>Male</td>\n",
       "      <td>29</td>\n",
       "      <td>TownB</td>\n",
       "      <td>0</td>\n",
       "    </tr>\n",
       "    <tr>\n",
       "      <th>1</th>\n",
       "      <td>2</td>\n",
       "      <td>Female</td>\n",
       "      <td>33</td>\n",
       "      <td>TownB</td>\n",
       "      <td>1</td>\n",
       "    </tr>\n",
       "    <tr>\n",
       "      <th>2</th>\n",
       "      <td>3</td>\n",
       "      <td>Female</td>\n",
       "      <td>41</td>\n",
       "      <td>TownA</td>\n",
       "      <td>0</td>\n",
       "    </tr>\n",
       "    <tr>\n",
       "      <th>3</th>\n",
       "      <td>4</td>\n",
       "      <td>Female</td>\n",
       "      <td>36</td>\n",
       "      <td>TownA</td>\n",
       "      <td>0</td>\n",
       "    </tr>\n",
       "    <tr>\n",
       "      <th>4</th>\n",
       "      <td>5</td>\n",
       "      <td>Male</td>\n",
       "      <td>25</td>\n",
       "      <td>TownC</td>\n",
       "      <td>0</td>\n",
       "    </tr>\n",
       "  </tbody>\n",
       "</table>\n",
       "</div>"
      ],
      "text/plain": [
       "   user_id  gender  age hometown  action_flag\n",
       "0        1    Male   29    TownB            0\n",
       "1        2  Female   33    TownB            1\n",
       "2        3  Female   41    TownA            0\n",
       "3        4  Female   36    TownA            0\n",
       "4        5    Male   25    TownC            0"
      ]
     },
     "execution_count": 40,
     "metadata": {},
     "output_type": "execute_result"
    }
   ],
   "source": [
    "import pandas as pd\n",
    "import numpy as np\n",
    "from scipy.stats import chi2_contingency, ttest_ind, fisher_exact\n",
    "from sklearn.linear_model import LogisticRegression\n",
    "from sklearn.model_selection import train_test_split\n",
    "from sklearn.metrics import classification_report\n",
    "import statsmodels.api as sm\n",
    "\n",
    "# Create a synthetic user dataset with demographics and binary action flag\n",
    "np.random.seed(42)\n",
    "\n",
    "n = 1000\n",
    "df = pd.DataFrame({\n",
    "    'user_id': range(1, n+1),\n",
    "    'gender': np.random.choice(['Male', 'Female'], n, p=[0.5, 0.5]),\n",
    "    'age': np.random.randint(18, 60, n),\n",
    "    'hometown': np.random.choice(['TownA', 'TownB', 'TownC'], n, p=[0.4, 0.35, 0.25]),\n",
    "})\n",
    "\n",
    "# Create a binary outcome 'action_flag' influenced by gender and age\n",
    "# (e.g., females and younger users slightly more likely to perform the action)\n",
    "df['action_flag'] = np.random.binomial(\n",
    "    1,\n",
    "    p=0.1 + 0.1*(df['gender'] == 'Female') + 0.002*(60 - df['age']),\n",
    "    size=n\n",
    ")\n",
    "\n",
    "# Show head of dataset\n",
    "df.head()"
   ]
  },
  {
   "cell_type": "markdown",
   "id": "05282383",
   "metadata": {},
   "source": [
    "## Exploratory Analysis: Action Rates by Segment"
   ]
  },
  {
   "cell_type": "code",
   "execution_count": 41,
   "id": "eb530a9f",
   "metadata": {},
   "outputs": [
    {
     "name": "stdout",
     "output_type": "stream",
     "text": [
      "Action Rate by Gender:\n",
      "    gender  action_flag\n",
      "0  Female     0.265594\n",
      "1    Male     0.139165\n",
      "\n",
      "Action Rate by Age Group:\n",
      "   age_group  action_flag\n",
      "0     18-25     0.239583\n",
      "1     26-35     0.219124\n",
      "2     36-45     0.197248\n",
      "3     46-60     0.171091\n",
      "\n",
      "Action Rate by Hometown:\n",
      "   hometown  action_flag\n",
      "0    TownA     0.190000\n",
      "1    TownB     0.213675\n",
      "2    TownC     0.204819\n"
     ]
    }
   ],
   "source": [
    "# Calculate action rate by gender\n",
    "action_rate_gender = df.groupby('gender')['action_flag'].mean().reset_index()\n",
    "print(\"Action Rate by Gender:\\n\", action_rate_gender)\n",
    "\n",
    "# Calculate action rate by age groups (create bins)\n",
    "df['age_group'] = pd.cut(df['age'], bins=[17, 25, 35, 45, 60], labels=['18-25','26-35','36-45','46-60'])\n",
    "action_rate_age = df.groupby('age_group', observed=False)['action_flag'].mean().reset_index()\n",
    "print(\"\\nAction Rate by Age Group:\\n\", action_rate_age)\n",
    "\n",
    "# Calculate action rate by hometown\n",
    "action_rate_home = df.groupby('hometown')['action_flag'].mean().reset_index()\n",
    "print(\"\\nAction Rate by Hometown:\\n\", action_rate_home)"
   ]
  },
  {
   "cell_type": "code",
   "execution_count": 42,
   "id": "a452c494",
   "metadata": {},
   "outputs": [
    {
     "data": {
      "application/vnd.microsoft.datawrangler.viewer.v0+json": {
       "columns": [
        {
         "name": "index",
         "rawType": "int64",
         "type": "integer"
        },
        {
         "name": "user_id",
         "rawType": "int64",
         "type": "integer"
        },
        {
         "name": "gender",
         "rawType": "object",
         "type": "string"
        },
        {
         "name": "age",
         "rawType": "int64",
         "type": "integer"
        },
        {
         "name": "hometown",
         "rawType": "object",
         "type": "string"
        },
        {
         "name": "action_flag",
         "rawType": "int64",
         "type": "integer"
        },
        {
         "name": "age_group",
         "rawType": "category",
         "type": "unknown"
        }
       ],
       "ref": "16585dfe-67fb-4b27-9c61-f97162c54c3f",
       "rows": [
        [
         "0",
         "1",
         "Male",
         "29",
         "TownB",
         "0",
         "26-35"
        ],
        [
         "1",
         "2",
         "Female",
         "33",
         "TownB",
         "1",
         "26-35"
        ],
        [
         "2",
         "3",
         "Female",
         "41",
         "TownA",
         "0",
         "36-45"
        ],
        [
         "3",
         "4",
         "Female",
         "36",
         "TownA",
         "0",
         "36-45"
        ],
        [
         "4",
         "5",
         "Male",
         "25",
         "TownC",
         "0",
         "18-25"
        ]
       ],
       "shape": {
        "columns": 6,
        "rows": 5
       }
      },
      "text/html": [
       "<div>\n",
       "<style scoped>\n",
       "    .dataframe tbody tr th:only-of-type {\n",
       "        vertical-align: middle;\n",
       "    }\n",
       "\n",
       "    .dataframe tbody tr th {\n",
       "        vertical-align: top;\n",
       "    }\n",
       "\n",
       "    .dataframe thead th {\n",
       "        text-align: right;\n",
       "    }\n",
       "</style>\n",
       "<table border=\"1\" class=\"dataframe\">\n",
       "  <thead>\n",
       "    <tr style=\"text-align: right;\">\n",
       "      <th></th>\n",
       "      <th>user_id</th>\n",
       "      <th>gender</th>\n",
       "      <th>age</th>\n",
       "      <th>hometown</th>\n",
       "      <th>action_flag</th>\n",
       "      <th>age_group</th>\n",
       "    </tr>\n",
       "  </thead>\n",
       "  <tbody>\n",
       "    <tr>\n",
       "      <th>0</th>\n",
       "      <td>1</td>\n",
       "      <td>Male</td>\n",
       "      <td>29</td>\n",
       "      <td>TownB</td>\n",
       "      <td>0</td>\n",
       "      <td>26-35</td>\n",
       "    </tr>\n",
       "    <tr>\n",
       "      <th>1</th>\n",
       "      <td>2</td>\n",
       "      <td>Female</td>\n",
       "      <td>33</td>\n",
       "      <td>TownB</td>\n",
       "      <td>1</td>\n",
       "      <td>26-35</td>\n",
       "    </tr>\n",
       "    <tr>\n",
       "      <th>2</th>\n",
       "      <td>3</td>\n",
       "      <td>Female</td>\n",
       "      <td>41</td>\n",
       "      <td>TownA</td>\n",
       "      <td>0</td>\n",
       "      <td>36-45</td>\n",
       "    </tr>\n",
       "    <tr>\n",
       "      <th>3</th>\n",
       "      <td>4</td>\n",
       "      <td>Female</td>\n",
       "      <td>36</td>\n",
       "      <td>TownA</td>\n",
       "      <td>0</td>\n",
       "      <td>36-45</td>\n",
       "    </tr>\n",
       "    <tr>\n",
       "      <th>4</th>\n",
       "      <td>5</td>\n",
       "      <td>Male</td>\n",
       "      <td>25</td>\n",
       "      <td>TownC</td>\n",
       "      <td>0</td>\n",
       "      <td>18-25</td>\n",
       "    </tr>\n",
       "  </tbody>\n",
       "</table>\n",
       "</div>"
      ],
      "text/plain": [
       "   user_id  gender  age hometown  action_flag age_group\n",
       "0        1    Male   29    TownB            0     26-35\n",
       "1        2  Female   33    TownB            1     26-35\n",
       "2        3  Female   41    TownA            0     36-45\n",
       "3        4  Female   36    TownA            0     36-45\n",
       "4        5    Male   25    TownC            0     18-25"
      ]
     },
     "execution_count": 42,
     "metadata": {},
     "output_type": "execute_result"
    }
   ],
   "source": [
    "df.head()"
   ]
  },
  {
   "cell_type": "markdown",
   "id": "c72bf288",
   "metadata": {},
   "source": [
    "### Interpretation\n",
    "This gives a first idea where action rates differ. For example, if females show a 20% action rate vs males 10%, that’s a strong signal."
   ]
  },
  {
   "cell_type": "markdown",
   "id": "b238d4fb",
   "metadata": {},
   "source": [
    "##  Statistical Significance Testing: Gender vs Action\n",
    "\n",
    "### Contingency table (crosstab)\n",
    "First, a **contingency table** (also called a **cross-tabulation** or **crosstab**) is used to display the frequency distribution of the two categorical variables (can also be used for more than two in).\n",
    "\n",
    "* It’s a tool to analyze the relationship between two (or more) categorical variables.\n",
    "* It shows _how often different combinations of categories occur together_.\n",
    "* Often used as input for tests like the Chi-Square test of independence.\n",
    "\n",
    "Since both variables are categorical (gender and binary action), **Chi-square test is the standard** approach to test independence."
   ]
  },
  {
   "cell_type": "code",
   "execution_count": 61,
   "id": "334f2099",
   "metadata": {},
   "outputs": [
    {
     "name": "stdout",
     "output_type": "stream",
     "text": [
      "\n",
      "Contingency Table (Gender vs Action):\n",
      " action_flag    0    1\n",
      "gender               \n",
      "Female       382  128\n",
      "Male         419   71\n"
     ]
    }
   ],
   "source": [
    "# Create contingency table (crosstab is the implementation in pandas)\n",
    "contingency_table = pd.crosstab(df['gender'], df['action_flag'])\n",
    "print(\"\\nContingency Table (Gender vs Action):\\n\", contingency_table)"
   ]
  },
  {
   "cell_type": "markdown",
   "id": "dff0c449",
   "metadata": {},
   "source": [
    "### Chi-Square Test of Independence\n",
    "\n",
    "Answers the core question:\n",
    "\n",
    "> “Is there a statistically significant relationship between these categorical variables, beyond what we’d expect by chance?”\n",
    "\n",
    "\n",
    "* Input:\n",
    "  * a contingency table (e.g., from pd.crosstab).\n",
    "* Output:\n",
    "  * Chi² statistic (how far observed counts deviate from expected counts)\n",
    "  * p-value (probability of seeing such deviation if variables were independent)\n",
    "  * degrees of freedom\n",
    "  * expected counts (what we’d expect if variables were truly independent)"
   ]
  },
  {
   "cell_type": "code",
   "execution_count": null,
   "id": "bd548e76",
   "metadata": {},
   "outputs": [],
   "source": [
    "# Chi-square test of independence\n",
    "chi2, p_value, dof, expected = chi2_contingency(contingency_table)\n",
    "print(f\"\\nChi-square test results:\\nChi2 = {chi2:.3f}, p-value = {p_value:.5f}\")\n",
    "\n",
    "if p_value < 0.05:\n",
    "    print(\"=> Reject null hypothesis: Gender and action are statistically dependent.\")\n",
    "else:\n",
    "    print(\"=> Fail to reject null hypothesis: No significant dependency found.\")"
   ]
  },
  {
   "cell_type": "markdown",
   "id": "201f4a84",
   "metadata": {},
   "source": [
    "### Deep Dive: Contingency table to check for dependency\n",
    "A contingency table summarizes the relationship between categorical variables by counting occurrences. It is fundamental in categorical data analysis.\n",
    "* It summarizes data by **counting how many times different combinations of categories occur**.\n",
    "* Typically, one categorical variable is displayed along the rows and another along the columns.\n",
    "* Each cell in the table represents the count (or sometimes proportion) of observations that fall into that combination of categories.\n"
   ]
  },
  {
   "cell_type": "code",
   "execution_count": 56,
   "id": "1f317262",
   "metadata": {},
   "outputs": [
    {
     "name": "stdout",
     "output_type": "stream",
     "text": [
      "Fruit   Apple  Banana  Orange\n",
      "Gender                       \n",
      "Female      0       1       1\n",
      "Male        2       1       0\n"
     ]
    }
   ],
   "source": [
    "import pandas as pd\n",
    "\n",
    "# Example data\n",
    "data = {\n",
    "    'Gender': ['Male', 'Female', 'Male', 'Female', 'Male'],\n",
    "    'Fruit': ['Apple', 'Banana', 'Apple', 'Orange', 'Banana']\n",
    "}\n",
    "\n",
    "df_cont = pd.DataFrame(data)\n",
    "\n",
    "# Create a contingency table\n",
    "contingency = pd.crosstab(df_cont['Gender'], df_cont['Fruit'])\n",
    "print(contingency)"
   ]
  },
  {
   "cell_type": "markdown",
   "id": "0dbd3529",
   "metadata": {},
   "source": [
    "### Deep Dive: Chi-square (χ²) test\n",
    "The Chi-square (χ²) test is a statistical test used to determine whether there is a significant association between two categorical variables.\n",
    "\n",
    "* You have a contingency table (observed frequencies).\n",
    "* The Chi-square test compares those observed counts with the expected counts (what you would see if the variables were independent).\n",
    "* If the difference between observed and expected counts is “too large,” you conclude that the variables are not independent (they’re related).\n",
    "\n",
    "Forumla:\n",
    "$\\chi^2 = \\sum \\frac{(O - E)^2}{E}$\n",
    "\n",
    "* O = observed frequency\n",
    "* E = expected frequency (calculated assuming independence)\n",
    "\n",
    "The **sum across all cells gives the Chi-square statistic**, which is compared to a critical value from the Chi-square distribution.\n",
    "\n",
    "Example in Python:\n",
    "Suppose we want to test if gender (Male/Female) and purchase (Yes/No) are independent."
   ]
  },
  {
   "cell_type": "code",
   "execution_count": null,
   "id": "74a6d544",
   "metadata": {},
   "outputs": [
    {
     "name": "stdout",
     "output_type": "stream",
     "text": [
      "Contingency Table:\n",
      "        Yes, purchased  No, not purchased\n",
      "Male                30                 20\n",
      "Female              10                 40\n",
      "\n",
      "Chi-square Statistic: 15.041666666666668\n",
      "Degrees of Freedom: 1\n",
      "P-value: 0.00010516355403363098\n",
      "\n",
      "Expected Frequencies (if independent):\n",
      "[[20. 30.]\n",
      " [20. 30.]]\n",
      "\n",
      "Rejected H₀: Gender and Purchase are associated (dependence).\n"
     ]
    }
   ],
   "source": [
    "import pandas as pd\n",
    "from scipy.stats import chi2_contingency\n",
    "\n",
    "# Example contingency table (observed frequencies)\n",
    "# Rows = Gender, Columns = Purchase\n",
    "data = pd.DataFrame({\n",
    "    \"Yes, purchased\": [30, 10],   # purchased\n",
    "    \"No, not purchased\":  [20, 40]    # did not purchase\n",
    "}, index=[\"Male\", \"Female\"])\n",
    "\n",
    "print(\"Contingency Table:\")\n",
    "print(data)\n",
    "\n",
    "# Run Chi-square test to test independence\n",
    "chi2, p, dof, expected = chi2_contingency(data)\n",
    "\n",
    "print(\"\\nChi-square Statistic:\", chi2)\n",
    "print(\"Degrees of Freedom:\", dof)\n",
    "print(\"P-value:\", p)\n",
    "print(\"\\nExpected Frequencies (if independent):\")\n",
    "print(expected)\n",
    "\n",
    "# Interpret result\n",
    "alpha = 0.05\n",
    "if p < alpha:\n",
    "    print(\"\\nRejected H₀: Gender and Purchase are associated (dependence).\")\n",
    "else:\n",
    "    print(\"\\nFailed to reject H₀: Gender and Purchase are independent.\")"
   ]
  },
  {
   "cell_type": "markdown",
   "id": "8518abb1",
   "metadata": {},
   "source": [
    "### Deep Dive: Statistical independence\n",
    "“See the math” behind the Chi-square test of independence\n",
    "\n",
    "1. Build the contingency table (observed counts) - from the example:\n",
    "\n",
    "|Purchase = Yes|Purchase = No|Row Total|\n",
    "|--------------|-------------|---------|\n",
    "|Male|30|20|50|\n",
    "|Female|10|40|50|\n",
    "|Col|Total|40|60|100|\n",
    "\n",
    "\n",
    "2. Compute the expected counts if H₀ (independence) is true\n",
    "$E_{ij} = \\frac{(\\text{Row Total}_i) \\times (\\text{Col Total}_j)}{\\text{Grand Total}}$\n",
    "\n",
    "* For Male, Yes: E = $\\frac{50 \\times 40}{100} = 20$\n",
    "* For Male, No: E = $\\frac{50 \\times 60}{100} = 30$\n",
    "* For Female, Yes: E = $\\frac{50 \\times 40}{100} = 20$\n",
    "* For Female, No: E = $\\frac{50 \\times 60}{100} = 30$\n",
    "\n",
    "So the expected table looks like:\n",
    "\n",
    "|Gender|Yes|No|\n",
    "|------|---|--|\n",
    "|Male|20|30|\n",
    "|Female|20|30|\n",
    "\n",
    "Compare Observed vs Expected:\n",
    "\n",
    "\n",
    "|Gender|Observed|Expected|\n",
    "|------|--------|--------|\n",
    "|Male, Yes|30|20|\n",
    "|Male, No|20|30|\n",
    "|Female, Yes|10|20|\n",
    "|Female, No|40|30|\n",
    "\n",
    "3. Compute the Chi-square statistic\n",
    "\n",
    "$\\chi^2 = \\sum \\frac{(O_{ij} - E_{ij})^2}{E_{ij}}$\n",
    "\n",
    "* Male, Yes: $\\frac{(30-20)^2}{20} = \\frac{100}{20} = 5$\n",
    "* Male, No: $\\frac{(20-30)^2}{30} = \\frac{100}{30} \\approx 3.33$\n",
    "* Female, Yes: $\\frac{(10-20)^2}{20} = 5$\n",
    "* Female, No: $\\frac{(40-30)^2}{30} \\approx 3.33$\n",
    "\n",
    "\n",
    "$\\chi^2 = 5 + 3.33 + 5 + 3.33 = 16.67$\n",
    "\n",
    "4. Find the p-value\n",
    "* Degrees of $freedom = (rows-1) \\times (cols-1) = (2-1)(2-1) = 1$\n",
    "* With χ² = 16.67 and df = 1 → **p < 0.0001**\n",
    "\n",
    "5. Decision\n",
    "* Since p < 0.05, reject H₀.\n",
    "* Conclusion: Gender and Purchase are not independent (they are associated).\n"
   ]
  },
  {
   "cell_type": "markdown",
   "id": "0fcd7f8d",
   "metadata": {},
   "source": [
    "### What “independence” means mathematically\n",
    "\n",
    "Two variables X (Gender) and Y (Purchase) are independent if:\n",
    "\n",
    "$P(X, Y) = P(X) \\times P(Y)$\n",
    "\n",
    "In words:\n",
    "👉 The probability of being Male and purchasing is just the product of the marginal probabilities.\n",
    "\n",
    "Apply that to the table\n",
    "\n",
    "From the marginals:\n",
    "* $P(\\text{Male}) = 50/100 = 0.5$\n",
    "* $P(\\text{Female}) = 0.5$\n",
    "* $P(\\text{Purchase Yes}) = 40/100 = 0.4$\n",
    "* $P(\\text{Purchase No}) = 0.6$\n",
    "\n",
    "So under independence:\n",
    "* $P(\\text{Male, Yes}) = 0.5 \\times 0.4 = 0.20 → Expected count = 100 \\times 0.20 = 20$\n",
    "* $P(\\text{Male, No}) = 0.5 \\times 0.6 = 0.30 → Expected count = 30$\n",
    "* Same for Female: 20 and 30.\n",
    "\n",
    "That’s why both rows are identical in expectation — because under independence, Gender doesn’t matter: Male and Female are predicted to have the same distribution of purchases."
   ]
  },
  {
   "cell_type": "code",
   "execution_count": 60,
   "id": "ff1dfc18",
   "metadata": {},
   "outputs": [
    {
     "data": {
      "image/png": "[encoded data removed]",
      "text/plain": [
       "<Figure size 1000x400 with 2 Axes>"
      ]
     },
     "metadata": {},
     "output_type": "display_data"
    }
   ],
   "source": [
    "import pandas as pd\n",
    "import matplotlib.pyplot as plt\n",
    "\n",
    "# Observed data\n",
    "observed = pd.DataFrame({\n",
    "    \"Yes\": [30, 10],\n",
    "    \"No\": [20, 40]\n",
    "}, index=[\"Male\", \"Female\"])\n",
    "\n",
    "# Expected data under independence\n",
    "expected = pd.DataFrame({\n",
    "    \"Yes\": [20, 20],\n",
    "    \"No\": [30, 30]\n",
    "}, index=[\"Male\", \"Female\"])\n",
    "\n",
    "# Plot side-by-side bar charts\n",
    "fig, axes = plt.subplots(1, 2, figsize=(10, 4), sharey=True)\n",
    "\n",
    "observed.plot(kind=\"bar\", stacked=True, ax=axes[0], color=[\"#4daf4a\", \"#e41a1c\"])\n",
    "axes[0].set_title(\"Observed\")\n",
    "axes[0].set_ylabel(\"Count\")\n",
    "\n",
    "expected.plot(kind=\"bar\", stacked=True, ax=axes[1], color=[\"#4daf4a\", \"#e41a1c\"])\n",
    "axes[1].set_title(\"Expected (Independence)\")\n",
    "\n",
    "plt.tight_layout()\n",
    "plt.show()"
   ]
  },
  {
   "cell_type": "markdown",
   "id": "1d3680a5",
   "metadata": {},
   "source": [
    "* **Observed**: In reality, Males buy more often (30 yes vs 20 no) while Females buy less (10 yes vs 40 no).\n",
    "* **Expected (Independence)**: If Gender and Purchase were independent, we’d expect both groups to have the same proportions (40% yes, 60% no → 20/30 in both groups)."
   ]
  },
  {
   "cell_type": "markdown",
   "id": "e3d34e23",
   "metadata": {},
   "source": [
    "### When to use Chi-square, T-test, or Fisher’s Exact Test\n",
    "\n",
    "| Situation                                     | Recommended Test      | Why?                                 |\n",
    "|-----------------------------------------------|----------------------|-------------------------------------|\n",
    "| Two categorical variables (large sample)      | Chi-square test      | Tests independence between categories |\n",
    "| Binary categorical vs continuous (or interval) | T-test / ANOVA       | Compares means between two or more groups |\n",
    "| Two categorical variables (small sample or low counts) | Fisher’s Exact Test | Exact test valid for small samples   |"
   ]
  },
  {
   "cell_type": "markdown",
   "id": "e23857da",
   "metadata": {},
   "source": [
    "## Predictive Modeling: Logistic Regression (using statsmodels)\n",
    "We model the probability of the action based on gender, age, and hometown. This gives effect sizes and feature importance.\n",
    "\n",
    "Note: We use statsmodels here, because scikit-learn is excellent for predictive modeling and production ML pipelines. But here we are interested in finding which segments (gender, age, etc.) are more likely to take an action — **it’s not just about prediction accuracy**, it’s about:\n",
    "\n",
    "1.\tCoefficient estimates with statistical meaning\n",
    "- statsmodels outputs p-values, confidence intervals, and standard errors for each coefficient.\n",
    "- This lets you answer: **“Is this variable’s effect statistically significant?” and “How certain is the magnitude?”**\n",
    "- (scikit-learn’s LogisticRegression doesn’t provide this directly — it focuses on prediction)\n",
    "\n",
    "2. Clear mapping between variables and coefficients\n",
    "- The .summary() table in statsmodels shows exactly **which predictors have positive/negative effects and whether they’re significant**.\n",
    "- It’s closer to what you’d get in R or in academic/statistical software.\n",
    "\n",
    "3. More statistical model types\n",
    "- Beyond logistic regression: GLMs, survival models, mixed models, time-series (ARIMA), etc.\n",
    "- You can use consistent syntax for all."
   ]
  },
  {
   "cell_type": "code",
   "execution_count": 45,
   "id": "d2e811af",
   "metadata": {},
   "outputs": [
    {
     "name": "stdout",
     "output_type": "stream",
     "text": [
      "Optimization terminated successfully.\n",
      "         Current function value: 0.487362\n",
      "         Iterations 6\n",
      "                           Logit Regression Results                           \n",
      "==============================================================================\n",
      "Dep. Variable:            action_flag   No. Observations:                 1000\n",
      "Model:                          Logit   Df Residuals:                      992\n",
      "Method:                           MLE   Df Model:                            7\n",
      "Date:                Mon, 18 Aug 2025   Pseudo R-squ.:                 0.03140\n",
      "Time:                        09:19:39   Log-Likelihood:                -487.36\n",
      "converged:                       True   LL-Null:                       -503.16\n",
      "Covariance Type:            nonrobust   LLR p-value:                 4.816e-05\n",
      "===================================================================================\n",
      "                      coef    std err          z      P>|z|      [0.025      0.975]\n",
      "-----------------------------------------------------------------------------------\n",
      "const              -0.1148      0.603     -0.190      0.849      -1.297       1.068\n",
      "age                -0.0358      0.026     -1.373      0.170      -0.087       0.015\n",
      "gender_Male        -0.8109      0.165     -4.915      0.000      -1.134      -0.488\n",
      "hometown_TownB      0.1442      0.185      0.778      0.437      -0.219       0.508\n",
      "hometown_TownC      0.0953      0.206      0.463      0.643      -0.308       0.499\n",
      "age_group_26-35     0.2521      0.329      0.767      0.443      -0.392       0.896\n",
      "age_group_36-45     0.3972      0.545      0.728      0.466      -0.672       1.466\n",
      "age_group_46-60     0.6980      0.822      0.849      0.396      -0.914       2.310\n",
      "===================================================================================\n"
     ]
    }
   ],
   "source": [
    "# Prepare features - encode categorical variables\n",
    "df_model = df.copy()\n",
    "# Convert categorical variable into dummy/indicator variables.\n",
    "df_model = pd.get_dummies(df_model, columns=['gender', 'hometown', 'age_group'], drop_first=True)\n",
    "\n",
    "# Define X and y\n",
    "X = df_model.drop(columns=['user_id', 'action_flag'])\n",
    "y = df_model['action_flag']\n",
    "\n",
    "# Add intercept for _statsmodels_ logistic regression\n",
    "# If you don’t add it manually, it will fit a model without one, which often gives biased\n",
    "# coefficients unless your data is centered.\n",
    "X_sm = sm.add_constant(X)\n",
    "\n",
    "# Convert all boolean columns to integers\n",
    "bool_cols = X_sm.select_dtypes(include=['bool']).columns\n",
    "X_sm[bool_cols] = X_sm[bool_cols].astype(int)\n",
    "\n",
    "# Fit logistic regression with statsmodels for interpretability\n",
    "logit_model = sm.Logit(y, X_sm)\n",
    "result = logit_model.fit()\n",
    "\n",
    "print(result.summary())"
   ]
  },
  {
   "cell_type": "code",
   "execution_count": 46,
   "id": "c451a660",
   "metadata": {},
   "outputs": [
    {
     "name": "stdout",
     "output_type": "stream",
     "text": [
      "\n",
      "Significant features: ['gender_Male']\n"
     ]
    }
   ],
   "source": [
    "# Extract significant feature names, excluding 'const' explicitly if present\n",
    "significant_feats = result.pvalues[result.pvalues < 0.05].index.tolist()\n",
    "\n",
    "if 'const' in significant_feats:\n",
    "    significant_feats.remove('const')\n",
    "\n",
    "print(\"\\nSignificant features:\", significant_feats)\n",
    "\n",
    "# Now select only those features from your original X DataFrame\n",
    "# YOU COULD use this for building a model using sklearn and use only the significant features\n",
    "X_selected = X[significant_feats]"
   ]
  },
  {
   "cell_type": "code",
   "execution_count": 47,
   "id": "2735fe90",
   "metadata": {},
   "outputs": [
    {
     "data": {
      "application/vnd.microsoft.datawrangler.viewer.v0+json": {
       "columns": [
        {
         "name": "index",
         "rawType": "int64",
         "type": "integer"
        },
        {
         "name": "user_id",
         "rawType": "int64",
         "type": "integer"
        },
        {
         "name": "age",
         "rawType": "int64",
         "type": "integer"
        },
        {
         "name": "action_flag",
         "rawType": "int64",
         "type": "integer"
        },
        {
         "name": "gender_Male",
         "rawType": "bool",
         "type": "boolean"
        },
        {
         "name": "hometown_TownB",
         "rawType": "bool",
         "type": "boolean"
        },
        {
         "name": "hometown_TownC",
         "rawType": "bool",
         "type": "boolean"
        },
        {
         "name": "age_group_26-35",
         "rawType": "bool",
         "type": "boolean"
        },
        {
         "name": "age_group_36-45",
         "rawType": "bool",
         "type": "boolean"
        },
        {
         "name": "age_group_46-60",
         "rawType": "bool",
         "type": "boolean"
        }
       ],
       "ref": "c0c90fd8-5f6a-41a5-b9ea-46d1ff6b5bd5",
       "rows": [
        [
         "0",
         "1",
         "29",
         "0",
         "True",
         "True",
         "False",
         "True",
         "False",
         "False"
        ],
        [
         "1",
         "2",
         "33",
         "1",
         "False",
         "True",
         "False",
         "True",
         "False",
         "False"
        ],
        [
         "2",
         "3",
         "41",
         "0",
         "False",
         "False",
         "False",
         "False",
         "True",
         "False"
        ],
        [
         "3",
         "4",
         "36",
         "0",
         "False",
         "False",
         "False",
         "False",
         "True",
         "False"
        ],
        [
         "4",
         "5",
         "25",
         "0",
         "True",
         "False",
         "True",
         "False",
         "False",
         "False"
        ]
       ],
       "shape": {
        "columns": 9,
        "rows": 5
       }
      },
      "text/html": [
       "<div>\n",
       "<style scoped>\n",
       "    .dataframe tbody tr th:only-of-type {\n",
       "        vertical-align: middle;\n",
       "    }\n",
       "\n",
       "    .dataframe tbody tr th {\n",
       "        vertical-align: top;\n",
       "    }\n",
       "\n",
       "    .dataframe thead th {\n",
       "        text-align: right;\n",
       "    }\n",
       "</style>\n",
       "<table border=\"1\" class=\"dataframe\">\n",
       "  <thead>\n",
       "    <tr style=\"text-align: right;\">\n",
       "      <th></th>\n",
       "      <th>user_id</th>\n",
       "      <th>age</th>\n",
       "      <th>action_flag</th>\n",
       "      <th>gender_Male</th>\n",
       "      <th>hometown_TownB</th>\n",
       "      <th>hometown_TownC</th>\n",
       "      <th>age_group_26-35</th>\n",
       "      <th>age_group_36-45</th>\n",
       "      <th>age_group_46-60</th>\n",
       "    </tr>\n",
       "  </thead>\n",
       "  <tbody>\n",
       "    <tr>\n",
       "      <th>0</th>\n",
       "      <td>1</td>\n",
       "      <td>29</td>\n",
       "      <td>0</td>\n",
       "      <td>True</td>\n",
       "      <td>True</td>\n",
       "      <td>False</td>\n",
       "      <td>True</td>\n",
       "      <td>False</td>\n",
       "      <td>False</td>\n",
       "    </tr>\n",
       "    <tr>\n",
       "      <th>1</th>\n",
       "      <td>2</td>\n",
       "      <td>33</td>\n",
       "      <td>1</td>\n",
       "      <td>False</td>\n",
       "      <td>True</td>\n",
       "      <td>False</td>\n",
       "      <td>True</td>\n",
       "      <td>False</td>\n",
       "      <td>False</td>\n",
       "    </tr>\n",
       "    <tr>\n",
       "      <th>2</th>\n",
       "      <td>3</td>\n",
       "      <td>41</td>\n",
       "      <td>0</td>\n",
       "      <td>False</td>\n",
       "      <td>False</td>\n",
       "      <td>False</td>\n",
       "      <td>False</td>\n",
       "      <td>True</td>\n",
       "      <td>False</td>\n",
       "    </tr>\n",
       "    <tr>\n",
       "      <th>3</th>\n",
       "      <td>4</td>\n",
       "      <td>36</td>\n",
       "      <td>0</td>\n",
       "      <td>False</td>\n",
       "      <td>False</td>\n",
       "      <td>False</td>\n",
       "      <td>False</td>\n",
       "      <td>True</td>\n",
       "      <td>False</td>\n",
       "    </tr>\n",
       "    <tr>\n",
       "      <th>4</th>\n",
       "      <td>5</td>\n",
       "      <td>25</td>\n",
       "      <td>0</td>\n",
       "      <td>True</td>\n",
       "      <td>False</td>\n",
       "      <td>True</td>\n",
       "      <td>False</td>\n",
       "      <td>False</td>\n",
       "      <td>False</td>\n",
       "    </tr>\n",
       "  </tbody>\n",
       "</table>\n",
       "</div>"
      ],
      "text/plain": [
       "   user_id  age  action_flag  gender_Male  hometown_TownB  hometown_TownC  \\\n",
       "0        1   29            0         True            True           False   \n",
       "1        2   33            1        False            True           False   \n",
       "2        3   41            0        False           False           False   \n",
       "3        4   36            0        False           False           False   \n",
       "4        5   25            0         True           False            True   \n",
       "\n",
       "   age_group_26-35  age_group_36-45  age_group_46-60  \n",
       "0             True            False            False  \n",
       "1             True            False            False  \n",
       "2            False             True            False  \n",
       "3            False             True            False  \n",
       "4            False            False            False  "
      ]
     },
     "execution_count": 47,
     "metadata": {},
     "output_type": "execute_result"
    }
   ],
   "source": [
    "df_model.head()"
   ]
  },
  {
   "cell_type": "markdown",
   "id": "dd9cf851",
   "metadata": {},
   "source": [
    "### Interpretation\n",
    "* **Coefficients show how each feature increases or decreases the log odds of performing the action.**\n",
    "* For example, a positive coefficient for gender_Female means females are more likely to perform the action.\n",
    "* P-values show statistical significance of each predictor."
   ]
  },
  {
   "cell_type": "markdown",
   "id": "7e4d8e74",
   "metadata": {},
   "source": [
    "## Model Evaluation & Feature Importance (scikit-learn)"
   ]
  },
  {
   "cell_type": "code",
   "execution_count": 48,
   "id": "fd38b929",
   "metadata": {},
   "outputs": [
    {
     "name": "stdout",
     "output_type": "stream",
     "text": [
      "\n",
      "Classification Report:\n",
      "               precision    recall  f1-score   support\n",
      "\n",
      "           0       0.80      1.00      0.89       200\n",
      "           1       0.00      0.00      0.00        50\n",
      "\n",
      "    accuracy                           0.80       250\n",
      "   macro avg       0.40      0.50      0.44       250\n",
      "weighted avg       0.64      0.80      0.71       250\n",
      "\n",
      "\n",
      "Feature Importance (logistic regression coefficients):\n",
      " hometown_TownB     0.250804\n",
      "age_group_46-60    0.179527\n",
      "hometown_TownC     0.167558\n",
      "age_group_36-45    0.155321\n",
      "age_group_26-35    0.129470\n",
      "age               -0.019596\n",
      "gender_Male       -0.623933\n",
      "dtype: float64\n"
     ]
    }
   ],
   "source": [
    "# Train-test split\n",
    "X_train, X_test, y_train, y_test = train_test_split(X, y, stratify=y, random_state=42)\n",
    "\n",
    "# Logistic regression with sklearn\n",
    "clf = LogisticRegression(max_iter=1000)\n",
    "clf.fit(X_train, y_train)\n",
    "\n",
    "# Predict and classification report\n",
    "y_pred = clf.predict(X_test)\n",
    "print(\"\\nClassification Report:\\n\", classification_report(y_test, y_pred, zero_division=0)) # zero_division: sklearn throws the warning and sets precision to 0.0 by default.\n",
    "\n",
    "# Feature importance (coefficients)\n",
    "feature_importance = pd.Series(clf.coef_[0], index=X.columns).sort_values(ascending=False)\n",
    "print(\"\\nFeature Importance (logistic regression coefficients):\\n\", feature_importance)"
   ]
  },
  {
   "cell_type": "markdown",
   "id": "7e5f2b49",
   "metadata": {},
   "source": [
    "## Why using statsmodels and logistic regression combined?\n",
    "\n",
    "| Aspect                     | statsmodels                              | scikit-learn                         |\n",
    "|----------------------------|-----------------------------------------|------------------------------------|\n",
    "| **Purpose**                | Statistical inference, interpretability | Predictive modeling, performance   |\n",
    "| **Output**                 | Coefficients, p-values, confidence intervals | Predictions, accuracy metrics, feature importances (coefficients without p-values) |\n",
    "| **Use case in your code**  | Understand which variables are significant and their effect sizes | Evaluate model performance on unseen data; make predictions |\n",
    "| **Model evaluation**       | Doesn’t have built-in train/test splitting or accuracy metrics | Designed for pipeline: split data, train, test, score |\n",
    "| **Interpretation**         | Easy to communicate statistical significance | Provides classification reports, ROC, etc. for practical performance |\n",
    "\n",
    "\n",
    "**So why both?**\n",
    "- **Statsmodels** gives you the “scientific explanation”: Which features truly matter? How confident are we?\n",
    "- **scikit-learn** gives you the “machine learning practicality”: How well does the model perform on new/unseen data? What’s the precision, recall, F1?\n",
    "\n",
    "### Typical workflow:\n",
    "1. **Use statsmodels** for exploratory data analysis, model building, and to check which variables are important and statistically significant.\n",
    "2.\tOnce you settle on features, **switch to scikit-learn for building a robust predictive pipeline**, hyperparameter tuning, cross-validation, and performance evaluation.\n",
    "3.\tUse scikit-learn models to generate predictions, score, and integrate into production systems."
   ]
  },
  {
   "cell_type": "markdown",
   "id": "a06301cf",
   "metadata": {},
   "source": [
    "# Advanced"
   ]
  },
  {
   "cell_type": "markdown",
   "id": "dcfc7a27",
   "metadata": {},
   "source": [
    "## Interaction Terms (Gender × Age)\n",
    "\n",
    "Adding interaction terms lets you see if the effect of one feature depends on another (e.g., does gender effect vary by age?).\n",
    "\n",
    "How to do it:\n",
    "* In logistic regression, add a new feature that’s the product of gender_Female × age (or age_group).\n",
    "* Check if the interaction coefficient is significant."
   ]
  },
  {
   "cell_type": "code",
   "execution_count": 49,
   "id": "803cb28e",
   "metadata": {},
   "outputs": [
    {
     "data": {
      "application/vnd.microsoft.datawrangler.viewer.v0+json": {
       "columns": [
        {
         "name": "index",
         "rawType": "int64",
         "type": "integer"
        },
        {
         "name": "user_id",
         "rawType": "int64",
         "type": "integer"
        },
        {
         "name": "age",
         "rawType": "int64",
         "type": "integer"
        },
        {
         "name": "action_flag",
         "rawType": "int64",
         "type": "integer"
        },
        {
         "name": "gender_Male",
         "rawType": "bool",
         "type": "boolean"
        },
        {
         "name": "hometown_TownB",
         "rawType": "bool",
         "type": "boolean"
        },
        {
         "name": "hometown_TownC",
         "rawType": "bool",
         "type": "boolean"
        },
        {
         "name": "age_group_26-35",
         "rawType": "bool",
         "type": "boolean"
        },
        {
         "name": "age_group_36-45",
         "rawType": "bool",
         "type": "boolean"
        },
        {
         "name": "age_group_46-60",
         "rawType": "bool",
         "type": "boolean"
        }
       ],
       "ref": "20ccdc07-80c7-4669-b191-5744c76f258b",
       "rows": [
        [
         "0",
         "1",
         "29",
         "0",
         "True",
         "True",
         "False",
         "True",
         "False",
         "False"
        ],
        [
         "1",
         "2",
         "33",
         "1",
         "False",
         "True",
         "False",
         "True",
         "False",
         "False"
        ],
        [
         "2",
         "3",
         "41",
         "0",
         "False",
         "False",
         "False",
         "False",
         "True",
         "False"
        ],
        [
         "3",
         "4",
         "36",
         "0",
         "False",
         "False",
         "False",
         "False",
         "True",
         "False"
        ],
        [
         "4",
         "5",
         "25",
         "0",
         "True",
         "False",
         "True",
         "False",
         "False",
         "False"
        ]
       ],
       "shape": {
        "columns": 9,
        "rows": 5
       }
      },
      "text/html": [
       "<div>\n",
       "<style scoped>\n",
       "    .dataframe tbody tr th:only-of-type {\n",
       "        vertical-align: middle;\n",
       "    }\n",
       "\n",
       "    .dataframe tbody tr th {\n",
       "        vertical-align: top;\n",
       "    }\n",
       "\n",
       "    .dataframe thead th {\n",
       "        text-align: right;\n",
       "    }\n",
       "</style>\n",
       "<table border=\"1\" class=\"dataframe\">\n",
       "  <thead>\n",
       "    <tr style=\"text-align: right;\">\n",
       "      <th></th>\n",
       "      <th>user_id</th>\n",
       "      <th>age</th>\n",
       "      <th>action_flag</th>\n",
       "      <th>gender_Male</th>\n",
       "      <th>hometown_TownB</th>\n",
       "      <th>hometown_TownC</th>\n",
       "      <th>age_group_26-35</th>\n",
       "      <th>age_group_36-45</th>\n",
       "      <th>age_group_46-60</th>\n",
       "    </tr>\n",
       "  </thead>\n",
       "  <tbody>\n",
       "    <tr>\n",
       "      <th>0</th>\n",
       "      <td>1</td>\n",
       "      <td>29</td>\n",
       "      <td>0</td>\n",
       "      <td>True</td>\n",
       "      <td>True</td>\n",
       "      <td>False</td>\n",
       "      <td>True</td>\n",
       "      <td>False</td>\n",
       "      <td>False</td>\n",
       "    </tr>\n",
       "    <tr>\n",
       "      <th>1</th>\n",
       "      <td>2</td>\n",
       "      <td>33</td>\n",
       "      <td>1</td>\n",
       "      <td>False</td>\n",
       "      <td>True</td>\n",
       "      <td>False</td>\n",
       "      <td>True</td>\n",
       "      <td>False</td>\n",
       "      <td>False</td>\n",
       "    </tr>\n",
       "    <tr>\n",
       "      <th>2</th>\n",
       "      <td>3</td>\n",
       "      <td>41</td>\n",
       "      <td>0</td>\n",
       "      <td>False</td>\n",
       "      <td>False</td>\n",
       "      <td>False</td>\n",
       "      <td>False</td>\n",
       "      <td>True</td>\n",
       "      <td>False</td>\n",
       "    </tr>\n",
       "    <tr>\n",
       "      <th>3</th>\n",
       "      <td>4</td>\n",
       "      <td>36</td>\n",
       "      <td>0</td>\n",
       "      <td>False</td>\n",
       "      <td>False</td>\n",
       "      <td>False</td>\n",
       "      <td>False</td>\n",
       "      <td>True</td>\n",
       "      <td>False</td>\n",
       "    </tr>\n",
       "    <tr>\n",
       "      <th>4</th>\n",
       "      <td>5</td>\n",
       "      <td>25</td>\n",
       "      <td>0</td>\n",
       "      <td>True</td>\n",
       "      <td>False</td>\n",
       "      <td>True</td>\n",
       "      <td>False</td>\n",
       "      <td>False</td>\n",
       "      <td>False</td>\n",
       "    </tr>\n",
       "  </tbody>\n",
       "</table>\n",
       "</div>"
      ],
      "text/plain": [
       "   user_id  age  action_flag  gender_Male  hometown_TownB  hometown_TownC  \\\n",
       "0        1   29            0         True            True           False   \n",
       "1        2   33            1        False            True           False   \n",
       "2        3   41            0        False           False           False   \n",
       "3        4   36            0        False           False           False   \n",
       "4        5   25            0         True           False            True   \n",
       "\n",
       "   age_group_26-35  age_group_36-45  age_group_46-60  \n",
       "0             True            False            False  \n",
       "1             True            False            False  \n",
       "2            False             True            False  \n",
       "3            False             True            False  \n",
       "4            False            False            False  "
      ]
     },
     "execution_count": 49,
     "metadata": {},
     "output_type": "execute_result"
    }
   ],
   "source": [
    "df_model.head()"
   ]
  },
  {
   "cell_type": "code",
   "execution_count": 50,
   "id": "511b0107",
   "metadata": {},
   "outputs": [],
   "source": [
    "# Convert all boolean columns to integers\n",
    "bool_cols = df_model.select_dtypes(include=['bool']).columns\n",
    "df_model[bool_cols] = df_model[bool_cols].astype(int)"
   ]
  },
  {
   "cell_type": "code",
   "execution_count": 51,
   "id": "17f36ff4",
   "metadata": {},
   "outputs": [],
   "source": [
    "import pandas as pd\n",
    "import numpy as np\n",
    "from scipy.stats import chi2_contingency\n",
    "from sklearn.linear_model import LogisticRegression\n",
    "from sklearn.model_selection import train_test_split\n",
    "from sklearn.metrics import classification_report\n",
    "import statsmodels.api as sm\n",
    "from lifelines import KaplanMeierFitter\n",
    "from sklift.models import TwoModels\n",
    "\n",
    "# --------------------\n",
    "# 1. Synthetic dataset\n",
    "# --------------------\n",
    "np.random.seed(42)\n",
    "n = 1000\n",
    "df = pd.DataFrame({\n",
    "    'user_id': range(1, n+1),\n",
    "    'gender': np.random.choice(['Male', 'Female'], n),\n",
    "    'age': np.random.randint(18, 60, n),\n",
    "    'hometown': np.random.choice(['TownA', 'TownB', 'TownC'], n),\n",
    "})\n",
    "\n",
    "# Action flag influenced by gender & age\n",
    "df['action_flag'] = np.random.binomial(\n",
    "    1,\n",
    "    p=0.1 + 0.1*(df['gender'] == 'Female') + 0.002*(60 - df['age']),\n",
    "    size=n\n",
    ")\n",
    "\n",
    "# -------------------------\n",
    "# Add signup/action dates\n",
    "# -------------------------\n",
    "df['signup_date'] = pd.Timestamp('2023-01-01') + pd.to_timedelta(\n",
    "    np.random.randint(0, 30, n), unit='D'\n",
    ")\n",
    "\n",
    "# Action date: only for those with action_flag=1, else NaT\n",
    "df['action_date'] = pd.NaT\n",
    "mask = df['action_flag'] == 1\n",
    "df.loc[mask, 'action_date'] = df.loc[mask, 'signup_date'] + pd.to_timedelta(\n",
    "    np.random.randint(1, 60, mask.sum()), unit='D'\n",
    ")"
   ]
  },
  {
   "cell_type": "markdown",
   "id": "32b8cdc7",
   "metadata": {},
   "source": [
    "## Interaction\n",
    "\n",
    "**What is it?**\n",
    "An interaction term in regression models **captures the effect of two or more features working together on the outcome** — beyond their individual effects.\n",
    "Instead of assuming each variable affects the outcome independently and additively, an interaction term tests if the effect of one variable depends on the level of another.\n",
    "\n",
    "**Example:**\n",
    "The effect of gender on buying behavior might be different for different age groups. So you include a term gender × age to capture that nuance.\n",
    "\n",
    "**When to use it?**\n",
    "- When you suspect that the impact of one feature varies depending on another.\n",
    "- To capture complex relationships that simple additive models miss.\n",
    "- When domain knowledge suggests variables interact.\n",
    "\n",
    "**What it does for you:**\n",
    "- Helps uncover conditional relationships between features and outcome.\n",
    "- Improves model fit and interpretability if interactions matter.\n",
    "- Allows more precise targeting (e.g., specific age-gender combos)."
   ]
  },
  {
   "cell_type": "code",
   "execution_count": 52,
   "id": "1e8adb85",
   "metadata": {},
   "outputs": [
    {
     "name": "stdout",
     "output_type": "stream",
     "text": [
      "Optimization terminated successfully.\n",
      "         Current function value: 0.489510\n",
      "         Iterations 6\n",
      "\n",
      "=== Logistic Regression with Interaction Term ===\n",
      "                           Logit Regression Results                           \n",
      "==============================================================================\n",
      "Dep. Variable:            action_flag   No. Observations:                 1000\n",
      "Model:                          Logit   Df Residuals:                      996\n",
      "Method:                           MLE   Df Model:                            3\n",
      "Date:                Mon, 18 Aug 2025   Pseudo R-squ.:                 0.01904\n",
      "Time:                        09:19:39   Log-Likelihood:                -489.51\n",
      "converged:                       True   LL-Null:                       -499.01\n",
      "Covariance Type:            nonrobust   LLR p-value:                 0.0002726\n",
      "==========================================================================================\n",
      "                             coef    std err          z      P>|z|      [0.025      0.975]\n",
      "------------------------------------------------------------------------------------------\n",
      "const                     -0.8090      0.340     -2.376      0.017      -1.476      -0.142\n",
      "gender_male               -0.7157      0.542     -1.320      0.187      -1.778       0.347\n",
      "age                       -0.0074      0.009     -0.870      0.385      -0.024       0.009\n",
      "interaction_gender_age     0.0009      0.014      0.064      0.949      -0.026       0.028\n",
      "==========================================================================================\n"
     ]
    }
   ],
   "source": [
    "# -------------------------\n",
    "# 2. Interaction term\n",
    "# -------------------------\n",
    "df['gender_male'] = (df['gender'] == 'Male').astype(int)\n",
    "df['interaction_gender_age'] = df['gender_male'] * df['age']\n",
    "\n",
    "X_inter = df[['gender_male', 'age', 'interaction_gender_age']]\n",
    "y_inter = df['action_flag']\n",
    "\n",
    "X_inter = sm.add_constant(X_inter)\n",
    "logit_inter = sm.Logit(y_inter, X_inter)\n",
    "result_inter = logit_inter.fit()\n",
    "print(\"\\n=== Logistic Regression with Interaction Term ===\")\n",
    "print(result_inter.summary())"
   ]
  },
  {
   "cell_type": "markdown",
   "id": "c1690bac",
   "metadata": {},
   "source": [
    "## Survival analysis\n",
    "\n",
    "**What is it?**\n",
    "\n",
    "Survival analysis **models time until an event happens** — e.g., time to churn, time to first purchase, time to feature adoption.\n",
    "It deals with censored data (users who haven’t yet taken the event by the observation end).\n",
    "\n",
    "**When to use it?**\n",
    "- When you want to **understand how long users take to perform an action or experience an event**.\n",
    "- When users might not have done the event yet (censoring).\n",
    "- When comparing time-to-event distributions between groups (e.g., gender, treatment vs control).\n",
    "\n",
    "**What it does for you:**\n",
    "- Estimates probabilities of surviving (not acting) past a time point — e.g., 30-day retention rates.\n",
    "- Enables comparison of time-to-event curves across segments or treatments.\n",
    "- Can model effects of covariates on timing using Cox proportional hazards or other models."
   ]
  },
  {
   "cell_type": "code",
   "execution_count": 53,
   "id": "b2e693dc",
   "metadata": {},
   "outputs": [
    {
     "name": "stdout",
     "output_type": "stream",
     "text": [
      "\n",
      "=== Survival Analysis (first 10 survival probabilities) ===\n",
      "          KM_estimate\n",
      "timeline             \n",
      "0.0             1.000\n",
      "1.0             0.999\n",
      "2.0             0.996\n",
      "3.0             0.994\n",
      "4.0             0.993\n",
      "5.0             0.992\n",
      "7.0             0.990\n",
      "8.0             0.985\n",
      "9.0             0.981\n",
      "10.0            0.978\n"
     ]
    }
   ],
   "source": [
    "# -------------------------\n",
    "# 3. Survival analysis\n",
    "# -------------------------\n",
    "df['time_to_action'] = (df['action_date'] - df['signup_date']).dt.days\n",
    "# Fill NaN with censoring limit (e.g., 60 days)\n",
    "df['time_to_action'] = df['time_to_action'].fillna(60)\n",
    "df['event_observed'] = df['action_flag']\n",
    "\n",
    "kmf = KaplanMeierFitter()\n",
    "kmf.fit(durations=df['time_to_action'], event_observed=df['event_observed'])\n",
    "print(\"\\n=== Survival Analysis (first 10 survival probabilities) ===\")\n",
    "print(kmf.survival_function_.head(10))"
   ]
  },
  {
   "cell_type": "markdown",
   "id": "e9aa524d",
   "metadata": {},
   "source": [
    "This output is the **Kaplan–Meier survival curve estimate** showing the probability of not having performed the event (e.g., an action) up to each time point (in days).\n",
    "\n",
    "| timeline (days) | KM_estimate (survival probability)          | Interpretation                                          |\n",
    "|-----------------|---------------------------------------------|---------------------------------------------------------|\n",
    "| 0.0             | 1.000 (or 100%)                             | At day 0, everyone has *not* acted yet (starting point).|\n",
    "| 1.0             | 0.999 (99.9%)                              | About 99.9% of users haven’t performed the action by day 1.|\n",
    "| 2.0             | 0.996 (99.6%)                              | About 99.6% haven’t acted by day 2, so 0.4% did act between day 1 and 2.|\n",
    "| 10.0            | 0.978 (97.8%)                              | By day 10, about 2.2% of users have performed the action.|"
   ]
  },
  {
   "cell_type": "markdown",
   "id": "c6750c91",
   "metadata": {},
   "source": [
    "## Uplift Modeling"
   ]
  },
  {
   "cell_type": "markdown",
   "id": "01d1b555",
   "metadata": {},
   "source": [
    "**What is it?**\n",
    "\n",
    "Uplift modeling **predicts the incremental impact of a treatment or action on individual outcomes**. It’s sometimes called causal modeling or heterogeneous treatment effect modeling.\n",
    "\n",
    "**When to use it?**\n",
    "- When you run experiments or campaigns and want to identify who truly benefits from the treatment.\n",
    "- To target interventions more effectively by focusing on users with positive uplift.\n",
    "- When you want to maximize ROI by avoiding “spenders” who would buy anyway (no uplift).\n",
    "\n",
    "**What it does for you:**\n",
    "- Predicts who will respond positively to treatment vs control.\n",
    "- Helps avoid wasting resources on “doomed” or “sure thing” customers.\n",
    "- Enables personalized treatment assignment."
   ]
  },
  {
   "cell_type": "code",
   "execution_count": 54,
   "id": "8080da4d",
   "metadata": {},
   "outputs": [
    {
     "name": "stdout",
     "output_type": "stream",
     "text": [
      "\n",
      "=== Uplift Scores (first 10) ===\n",
      "[0.14520826 0.08809447 0.19395015 0.16810701 0.15521849 0.16832896\n",
      " 0.1283236  0.10356832 0.19814396 0.02370063]\n"
     ]
    }
   ],
   "source": [
    "# -------------------------\n",
    "# 4. Uplift modeling\n",
    "# -------------------------\n",
    "# Simulate treatment assignment\n",
    "df['treatment'] = np.random.binomial(1, 0.5, n)\n",
    "\n",
    "# For demo: outcome is more likely if treated and female\n",
    "df['outcome'] = np.random.binomial(\n",
    "    1,\n",
    "    0.05 + 0.15*df['treatment'] + 0.10*(df['gender'] == 'Female'),\n",
    "    size=n\n",
    ")\n",
    "\n",
    "X_uplift = pd.get_dummies(df[['gender', 'age', 'hometown']], drop_first=True)\n",
    "y_uplift = df['outcome']\n",
    "treatment = df['treatment']\n",
    "\n",
    "uplift_model = TwoModels(\n",
    "    estimator_trmnt=LogisticRegression(max_iter=500),\n",
    "    estimator_ctrl=LogisticRegression(max_iter=500),\n",
    "    method='vanilla'\n",
    ")\n",
    "uplift_model.fit(X_uplift, y_uplift, treatment)\n",
    "\n",
    "uplift_scores = uplift_model.predict(X_uplift)\n",
    "print(\"\\n=== Uplift Scores (first 10) ===\")\n",
    "print(uplift_scores[:10])"
   ]
  },
  {
   "cell_type": "markdown",
   "id": "8857a341",
   "metadata": {},
   "source": [
    "Those uplift scores represent, for each user, the predicted incremental impact (or lift) of the treatment on the likelihood of the desired outcome compared to no treatment.\n",
    "\n",
    "**What does this imply practically?**\n",
    "- Higher uplift scores = better candidates for treatment.\n",
    "- You can prioritize targeting users with the highest uplift to maximize campaign ROI.\n",
    "- Users with low or negative uplift might be left untreated to save costs or avoid negative effects.\n",
    "\n",
    "How to use uplift scores?\n",
    "- Sort users by their uplift score descending.\n",
    "- Target top X% (depending on budget).\n",
    "- Monitor real-world results to validate the model’s predictions.\n",
    "\n",
    "|Score Example | Meaning|\n",
    "|--------------|--------|\n",
    "|0.19 (19%)|The model predicts this user is about 19 percentage points more likely to take the action because of the treatment.|\n",
    "|0.02 (2%)|The treatment might increase the chance by 2 percentage points—small but positive.|\n",
    "|Negative values (if any)|The treatment might actually decrease the chance for this user (harmful or no effect).|\n",
    "\n"
   ]
  },
  {
   "cell_type": "markdown",
   "id": "ea4ca892",
   "metadata": {},
   "source": [
    "### Summary:\n",
    "1. Interaction term → Adds gender × age to the logistic regression model and prints the coefficients.\n",
    "2.\tSurvival analysis → Creates fake signup/action dates, computes time_to_action, handles censoring for users without an action, and prints a Kaplan–Meier survival table.\n",
    "3.\tUplift modeling → Simulates treatment assignment and outcome, fits a treatment/control model, and outputs predicted uplift scores."
   ]
  },
  {
   "cell_type": "markdown",
   "id": "c2cc4967",
   "metadata": {},
   "source": [
    "| Extension Topic   | Method / Tool                        | Input Data Needed                 | What it Adds                                  |\n",
    "|-------------------|--------------------------------------|------------------------------------|-----------------------------------------------|\n",
    "| Interaction Terms | Logistic regression with product terms| User features                      | Detect feature interplay, nuanced segments   |\n",
    "| Survival Analysis | Kaplan-Meier, Cox model              | Time-to-action + censoring         | Model time dimension of user behavior        |\n",
    "| Uplift Modeling   | Two-model approach, uplift forests   | Treatment assignment + outcome     | Identify who benefits most from campaigns    |"
   ]
  }
 ],
 "metadata": {
  "kernelspec": {
   "display_name": ".venv",
   "language": "python",
   "name": "python3"
  },
  "language_info": {
   "codemirror_mode": {
    "name": "ipython",
    "version": 3
   },
   "file_extension": ".py",
   "mimetype": "text/x-python",
   "name": "python",
   "nbconvert_exporter": "python",
   "pygments_lexer": "ipython3",
   "version": "3.11.3"
  }
 },
 "nbformat": 4,
 "nbformat_minor": 5
}
