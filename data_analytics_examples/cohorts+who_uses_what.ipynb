{
 "cells": [
  {
   "cell_type": "markdown",
   "id": "8654371a",
   "metadata": {},
   "source": [
    "\n",
    "# Which user groups perform what action\n",
    "To find which user segments (e.g., male vs female, age groups, hometowns) are more likely to perform certain actions (like posting content, buying, etc.), you can apply a mix of exploratory data analysis, statistical testing, and predictive modeling.\n",
    "\n",
    "A comprehensive Python example walking through these steps using a synthetic dataset. It includes:\n",
    "* Exploratory analysis (group-by & action rates)\n",
    "* Statistical significance testing (Chi-square for gender & action)\n",
    "* Predictive modeling (logistic regression + feature importance)\n",
    "* Interpretation notes and comments at every step"
   ]
  },
  {
   "cell_type": "markdown",
   "id": "f926099a",
   "metadata": {},
   "source": [
    "## Imports & Sample Data Creation"
   ]
  },
  {
   "cell_type": "code",
   "execution_count": 33,
   "id": "b30f2e8b",
   "metadata": {},
   "outputs": [
    {
     "data": {
      "text/html": [
       "<div>\n",
       "<style scoped>\n",
       "    .dataframe tbody tr th:only-of-type {\n",
       "        vertical-align: middle;\n",
       "    }\n",
       "\n",
       "    .dataframe tbody tr th {\n",
       "        vertical-align: top;\n",
       "    }\n",
       "\n",
       "    .dataframe thead th {\n",
       "        text-align: right;\n",
       "    }\n",
       "</style>\n",
       "<table border=\"1\" class=\"dataframe\">\n",
       "  <thead>\n",
       "    <tr style=\"text-align: right;\">\n",
       "      <th></th>\n",
       "      <th>user_id</th>\n",
       "      <th>gender</th>\n",
       "      <th>age</th>\n",
       "      <th>hometown</th>\n",
       "      <th>action_flag</th>\n",
       "    </tr>\n",
       "  </thead>\n",
       "  <tbody>\n",
       "    <tr>\n",
       "      <th>0</th>\n",
       "      <td>1</td>\n",
       "      <td>Male</td>\n",
       "      <td>29</td>\n",
       "      <td>TownB</td>\n",
       "      <td>0</td>\n",
       "    </tr>\n",
       "    <tr>\n",
       "      <th>1</th>\n",
       "      <td>2</td>\n",
       "      <td>Female</td>\n",
       "      <td>33</td>\n",
       "      <td>TownB</td>\n",
       "      <td>1</td>\n",
       "    </tr>\n",
       "    <tr>\n",
       "      <th>2</th>\n",
       "      <td>3</td>\n",
       "      <td>Female</td>\n",
       "      <td>41</td>\n",
       "      <td>TownA</td>\n",
       "      <td>0</td>\n",
       "    </tr>\n",
       "    <tr>\n",
       "      <th>3</th>\n",
       "      <td>4</td>\n",
       "      <td>Female</td>\n",
       "      <td>36</td>\n",
       "      <td>TownA</td>\n",
       "      <td>0</td>\n",
       "    </tr>\n",
       "    <tr>\n",
       "      <th>4</th>\n",
       "      <td>5</td>\n",
       "      <td>Male</td>\n",
       "      <td>25</td>\n",
       "      <td>TownC</td>\n",
       "      <td>0</td>\n",
       "    </tr>\n",
       "  </tbody>\n",
       "</table>\n",
       "</div>"
      ],
      "text/plain": [
       "   user_id  gender  age hometown  action_flag\n",
       "0        1    Male   29    TownB            0\n",
       "1        2  Female   33    TownB            1\n",
       "2        3  Female   41    TownA            0\n",
       "3        4  Female   36    TownA            0\n",
       "4        5    Male   25    TownC            0"
      ]
     },
     "execution_count": 33,
     "metadata": {},
     "output_type": "execute_result"
    }
   ],
   "source": [
    "import pandas as pd\n",
    "import numpy as np\n",
    "from scipy.stats import chi2_contingency, ttest_ind, fisher_exact\n",
    "from sklearn.linear_model import LogisticRegression\n",
    "from sklearn.model_selection import train_test_split\n",
    "from sklearn.metrics import classification_report\n",
    "import statsmodels.api as sm\n",
    "\n",
    "# Create a synthetic user dataset with demographics and binary action flag\n",
    "np.random.seed(42)\n",
    "\n",
    "n = 1000\n",
    "df = pd.DataFrame({\n",
    "    'user_id': range(1, n+1),\n",
    "    'gender': np.random.choice(['Male', 'Female'], n, p=[0.5, 0.5]),\n",
    "    'age': np.random.randint(18, 60, n),\n",
    "    'hometown': np.random.choice(['TownA', 'TownB', 'TownC'], n, p=[0.4, 0.35, 0.25]),\n",
    "})\n",
    "\n",
    "# Create a binary outcome 'action_flag' influenced by gender and age\n",
    "# (e.g., females and younger users slightly more likely to perform the action)\n",
    "df['action_flag'] = np.random.binomial(\n",
    "    1,\n",
    "    p=0.1 + 0.1*(df['gender'] == 'Female') + 0.002*(60 - df['age']),\n",
    "    size=n\n",
    ")\n",
    "\n",
    "# Show head of dataset\n",
    "df.head()"
   ]
  },
  {
   "cell_type": "markdown",
   "id": "05282383",
   "metadata": {},
   "source": [
    "## Exploratory Analysis: Action Rates by Segment"
   ]
  },
  {
   "cell_type": "code",
   "execution_count": 34,
   "id": "eb530a9f",
   "metadata": {},
   "outputs": [
    {
     "name": "stdout",
     "output_type": "stream",
     "text": [
      "Action Rate by Gender:\n",
      "    gender  action_flag\n",
      "0  Female     0.265594\n",
      "1    Male     0.139165\n",
      "\n",
      "Action Rate by Age Group:\n",
      "   age_group  action_flag\n",
      "0     18-25     0.239583\n",
      "1     26-35     0.219124\n",
      "2     36-45     0.197248\n",
      "3     46-60     0.171091\n",
      "\n",
      "Action Rate by Hometown:\n",
      "   hometown  action_flag\n",
      "0    TownA     0.190000\n",
      "1    TownB     0.213675\n",
      "2    TownC     0.204819\n"
     ]
    }
   ],
   "source": [
    "# Calculate action rate by gender\n",
    "action_rate_gender = df.groupby('gender')['action_flag'].mean().reset_index()\n",
    "print(\"Action Rate by Gender:\\n\", action_rate_gender)\n",
    "\n",
    "# Calculate action rate by age groups (create bins)\n",
    "df['age_group'] = pd.cut(df['age'], bins=[17, 25, 35, 45, 60], labels=['18-25','26-35','36-45','46-60'])\n",
    "action_rate_age = df.groupby('age_group', observed=False)['action_flag'].mean().reset_index()\n",
    "print(\"\\nAction Rate by Age Group:\\n\", action_rate_age)\n",
    "\n",
    "# Calculate action rate by hometown\n",
    "action_rate_home = df.groupby('hometown')['action_flag'].mean().reset_index()\n",
    "print(\"\\nAction Rate by Hometown:\\n\", action_rate_home)"
   ]
  },
  {
   "cell_type": "code",
   "execution_count": 35,
   "id": "a452c494",
   "metadata": {},
   "outputs": [
    {
     "data": {
      "text/html": [
       "<div>\n",
       "<style scoped>\n",
       "    .dataframe tbody tr th:only-of-type {\n",
       "        vertical-align: middle;\n",
       "    }\n",
       "\n",
       "    .dataframe tbody tr th {\n",
       "        vertical-align: top;\n",
       "    }\n",
       "\n",
       "    .dataframe thead th {\n",
       "        text-align: right;\n",
       "    }\n",
       "</style>\n",
       "<table border=\"1\" class=\"dataframe\">\n",
       "  <thead>\n",
       "    <tr style=\"text-align: right;\">\n",
       "      <th></th>\n",
       "      <th>user_id</th>\n",
       "      <th>gender</th>\n",
       "      <th>age</th>\n",
       "      <th>hometown</th>\n",
       "      <th>action_flag</th>\n",
       "      <th>age_group</th>\n",
       "    </tr>\n",
       "  </thead>\n",
       "  <tbody>\n",
       "    <tr>\n",
       "      <th>0</th>\n",
       "      <td>1</td>\n",
       "      <td>Male</td>\n",
       "      <td>29</td>\n",
       "      <td>TownB</td>\n",
       "      <td>0</td>\n",
       "      <td>26-35</td>\n",
       "    </tr>\n",
       "    <tr>\n",
       "      <th>1</th>\n",
       "      <td>2</td>\n",
       "      <td>Female</td>\n",
       "      <td>33</td>\n",
       "      <td>TownB</td>\n",
       "      <td>1</td>\n",
       "      <td>26-35</td>\n",
       "    </tr>\n",
       "    <tr>\n",
       "      <th>2</th>\n",
       "      <td>3</td>\n",
       "      <td>Female</td>\n",
       "      <td>41</td>\n",
       "      <td>TownA</td>\n",
       "      <td>0</td>\n",
       "      <td>36-45</td>\n",
       "    </tr>\n",
       "    <tr>\n",
       "      <th>3</th>\n",
       "      <td>4</td>\n",
       "      <td>Female</td>\n",
       "      <td>36</td>\n",
       "      <td>TownA</td>\n",
       "      <td>0</td>\n",
       "      <td>36-45</td>\n",
       "    </tr>\n",
       "    <tr>\n",
       "      <th>4</th>\n",
       "      <td>5</td>\n",
       "      <td>Male</td>\n",
       "      <td>25</td>\n",
       "      <td>TownC</td>\n",
       "      <td>0</td>\n",
       "      <td>18-25</td>\n",
       "    </tr>\n",
       "  </tbody>\n",
       "</table>\n",
       "</div>"
      ],
      "text/plain": [
       "   user_id  gender  age hometown  action_flag age_group\n",
       "0        1    Male   29    TownB            0     26-35\n",
       "1        2  Female   33    TownB            1     26-35\n",
       "2        3  Female   41    TownA            0     36-45\n",
       "3        4  Female   36    TownA            0     36-45\n",
       "4        5    Male   25    TownC            0     18-25"
      ]
     },
     "execution_count": 35,
     "metadata": {},
     "output_type": "execute_result"
    }
   ],
   "source": [
    "df.head()"
   ]
  },
  {
   "cell_type": "markdown",
   "id": "c72bf288",
   "metadata": {},
   "source": [
    "### Interpretation\n",
    "This gives a first idea where action rates differ. For example, if females show a 20% action rate vs males 10%, that’s a strong signal."
   ]
  },
  {
   "cell_type": "markdown",
   "id": "b238d4fb",
   "metadata": {},
   "source": [
    "##  Statistical Significance Testing: Gender vs Action\n",
    "\n",
    "Since both variables are categorical (gender and binary action), **Chi-square test is the standard** approach to test independence."
   ]
  },
  {
   "cell_type": "code",
   "execution_count": 36,
   "id": "334f2099",
   "metadata": {},
   "outputs": [
    {
     "name": "stdout",
     "output_type": "stream",
     "text": [
      "\n",
      "Contingency Table (Gender vs Action):\n",
      " action_flag    0    1\n",
      "gender               \n",
      "Female       365  132\n",
      "Male         433   70\n",
      "\n",
      "Chi-square test results:\n",
      "Chi2 = 24.011, p-value = 0.00000\n",
      "=> Reject null hypothesis: Gender and action are statistically dependent.\n"
     ]
    }
   ],
   "source": [
    "# Create contingency table\n",
    "contingency_table = pd.crosstab(df['gender'], df['action_flag'])\n",
    "print(\"\\nContingency Table (Gender vs Action):\\n\", contingency_table)\n",
    "\n",
    "# Chi-square test of independence\n",
    "chi2, p_value, dof, expected = chi2_contingency(contingency_table)\n",
    "print(f\"\\nChi-square test results:\\nChi2 = {chi2:.3f}, p-value = {p_value:.5f}\")\n",
    "\n",
    "if p_value < 0.05:\n",
    "    print(\"=> Reject null hypothesis: Gender and action are statistically dependent.\")\n",
    "else:\n",
    "    print(\"=> Fail to reject null hypothesis: No significant dependency found.\")"
   ]
  },
  {
   "cell_type": "markdown",
   "id": "e3d34e23",
   "metadata": {},
   "source": [
    "### When to use Chi-square, T-test, or Fisher’s Exact Test\n",
    "\n",
    "| Situation                                     | Recommended Test      | Why?                                 |\n",
    "|-----------------------------------------------|----------------------|-------------------------------------|\n",
    "| Two categorical variables (large sample)      | Chi-square test      | Tests independence between categories |\n",
    "| Binary categorical vs continuous (or interval) | T-test / ANOVA       | Compares means between two or more groups |\n",
    "| Two categorical variables (small sample or low counts) | Fisher’s Exact Test | Exact test valid for small samples   |"
   ]
  },
  {
   "cell_type": "markdown",
   "id": "201f4a84",
   "metadata": {},
   "source": [
    "#### Side Note: Contingency table\n",
    "A contingency table summarizes the relationship between categorical variables by counting occurrences. It is fundamental in categorical data analysis.\n",
    "* It summarizes data by **counting how many times different combinations of categories occur**.\n",
    "* Typically, one categorical variable is displayed along the rows and another along the columns.\n",
    "* Each cell in the table represents the count (or sometimes proportion) of observations that fall into that combination of categories.\n"
   ]
  },
  {
   "cell_type": "code",
   "execution_count": 37,
   "id": "1f317262",
   "metadata": {},
   "outputs": [
    {
     "name": "stdout",
     "output_type": "stream",
     "text": [
      "Fruit   Apple  Banana  Orange\n",
      "Gender                       \n",
      "Female      0       1       1\n",
      "Male        2       1       0\n"
     ]
    }
   ],
   "source": [
    "import pandas as pd\n",
    "\n",
    "# Example data\n",
    "data = {\n",
    "    'Gender': ['Male', 'Female', 'Male', 'Female', 'Male'],\n",
    "    'Fruit': ['Apple', 'Banana', 'Apple', 'Orange', 'Banana']\n",
    "}\n",
    "\n",
    "df_cont = pd.DataFrame(data)\n",
    "\n",
    "# Create a contingency table\n",
    "contingency = pd.crosstab(df_cont['Gender'], df_cont['Fruit'])\n",
    "print(contingency)"
   ]
  },
  {
   "cell_type": "markdown",
   "id": "e23857da",
   "metadata": {},
   "source": [
    "## Predictive Modeling: Logistic Regression\n",
    "We model the probability of the action based on gender, age, and hometown. This gives effect sizes and feature importance."
   ]
  },
  {
   "cell_type": "code",
   "execution_count": 38,
   "id": "d2e811af",
   "metadata": {},
   "outputs": [
    {
     "name": "stdout",
     "output_type": "stream",
     "text": [
      "Optimization terminated successfully.\n",
      "         Current function value: 0.487362\n",
      "         Iterations 6\n",
      "                           Logit Regression Results                           \n",
      "==============================================================================\n",
      "Dep. Variable:            action_flag   No. Observations:                 1000\n",
      "Model:                          Logit   Df Residuals:                      992\n",
      "Method:                           MLE   Df Model:                            7\n",
      "Date:                Sun, 10 Aug 2025   Pseudo R-squ.:                 0.03140\n",
      "Time:                        13:42:11   Log-Likelihood:                -487.36\n",
      "converged:                       True   LL-Null:                       -503.16\n",
      "Covariance Type:            nonrobust   LLR p-value:                 4.816e-05\n",
      "===================================================================================\n",
      "                      coef    std err          z      P>|z|      [0.025      0.975]\n",
      "-----------------------------------------------------------------------------------\n",
      "const              -0.1148      0.603     -0.190      0.849      -1.297       1.068\n",
      "age                -0.0358      0.026     -1.373      0.170      -0.087       0.015\n",
      "gender_Male        -0.8109      0.165     -4.915      0.000      -1.134      -0.488\n",
      "hometown_TownB      0.1442      0.185      0.778      0.437      -0.219       0.508\n",
      "hometown_TownC      0.0953      0.206      0.463      0.643      -0.308       0.499\n",
      "age_group_26-35     0.2521      0.329      0.767      0.443      -0.392       0.896\n",
      "age_group_36-45     0.3972      0.545      0.728      0.466      -0.672       1.466\n",
      "age_group_46-60     0.6980      0.822      0.849      0.396      -0.914       2.310\n",
      "===================================================================================\n"
     ]
    }
   ],
   "source": [
    "# Prepare features - encode categorical variables\n",
    "df_model = df.copy()\n",
    "df_model = pd.get_dummies(df_model, columns=['gender', 'hometown', 'age_group'], drop_first=True)\n",
    "\n",
    "# Define X and y\n",
    "X = df_model.drop(columns=['user_id', 'action_flag'])\n",
    "y = df_model['action_flag']\n",
    "\n",
    "# Add intercept for statsmodels logistic regression\n",
    "X_sm = sm.add_constant(X)\n",
    "\n",
    "# Convert all boolean columns to integers\n",
    "bool_cols = X_sm.select_dtypes(include=['bool']).columns\n",
    "X_sm[bool_cols] = X_sm[bool_cols].astype(int)\n",
    "\n",
    "# Fit logistic regression with statsmodels for interpretability\n",
    "logit_model = sm.Logit(y, X_sm)\n",
    "result = logit_model.fit()\n",
    "\n",
    "print(result.summary())"
   ]
  },
  {
   "cell_type": "markdown",
   "id": "dd9cf851",
   "metadata": {},
   "source": [
    "### Interpretation\n",
    "* **Coefficients show how each feature increases or decreases the log odds of performing the action.**\n",
    "* For example, a positive coefficient for gender_Female means females are more likely to perform the action.\n",
    "* P-values show statistical significance of each predictor."
   ]
  },
  {
   "cell_type": "markdown",
   "id": "7e4d8e74",
   "metadata": {},
   "source": [
    "## Model Evaluation & Feature Importance (scikit-learn)"
   ]
  },
  {
   "cell_type": "code",
   "execution_count": 39,
   "id": "fd38b929",
   "metadata": {},
   "outputs": [
    {
     "name": "stdout",
     "output_type": "stream",
     "text": [
      "\n",
      "Classification Report:\n",
      "               precision    recall  f1-score   support\n",
      "\n",
      "           0       0.80      1.00      0.89       200\n",
      "           1       0.00      0.00      0.00        50\n",
      "\n",
      "    accuracy                           0.80       250\n",
      "   macro avg       0.40      0.50      0.44       250\n",
      "weighted avg       0.64      0.80      0.71       250\n",
      "\n",
      "\n",
      "Feature Importance (logistic regression coefficients):\n",
      " hometown_TownB     0.250804\n",
      "age_group_46-60    0.179527\n",
      "hometown_TownC     0.167558\n",
      "age_group_36-45    0.155321\n",
      "age_group_26-35    0.129470\n",
      "age               -0.019596\n",
      "gender_Male       -0.623933\n",
      "dtype: float64\n"
     ]
    }
   ],
   "source": [
    "# Train-test split\n",
    "X_train, X_test, y_train, y_test = train_test_split(X, y, stratify=y, random_state=42)\n",
    "\n",
    "# Logistic regression with sklearn\n",
    "clf = LogisticRegression(max_iter=1000)\n",
    "clf.fit(X_train, y_train)\n",
    "\n",
    "# Predict and classification report\n",
    "y_pred = clf.predict(X_test)\n",
    "print(\"\\nClassification Report:\\n\", classification_report(y_test, y_pred, zero_division=0)) # zero_division: sklearn throws the warning and sets precision to 0.0 by default.\n",
    "\n",
    "# Feature importance (coefficients)\n",
    "feature_importance = pd.Series(clf.coef_[0], index=X.columns).sort_values(ascending=False)\n",
    "print(\"\\nFeature Importance (logistic regression coefficients):\\n\", feature_importance)"
   ]
  },
  {
   "cell_type": "markdown",
   "id": "a06301cf",
   "metadata": {},
   "source": [
    "# Advanced Deep Dive"
   ]
  },
  {
   "cell_type": "markdown",
   "id": "dcfc7a27",
   "metadata": {},
   "source": [
    "## Interaction Terms (Gender × Age)\n",
    "\n",
    "Adding interaction terms lets you see if the effect of one feature depends on another (e.g., does gender effect vary by age?).\n",
    "\n",
    "How to do it:\n",
    "* In logistic regression, add a new feature that’s the product of gender_Female × age (or age_group).\n",
    "* Check if the interaction coefficient is significant."
   ]
  }
 ],
 "metadata": {
  "kernelspec": {
   "display_name": ".venv",
   "language": "python",
   "name": "python3"
  },
  "language_info": {
   "codemirror_mode": {
    "name": "ipython",
    "version": 3
   },
   "file_extension": ".py",
   "mimetype": "text/x-python",
   "name": "python",
   "nbconvert_exporter": "python",
   "pygments_lexer": "ipython3",
   "version": "3.12.4"
  }
 },
 "nbformat": 4,
 "nbformat_minor": 5
}
