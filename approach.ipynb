{
 "cells": [
  {
   "cell_type": "markdown",
   "id": "f5aa3a18",
   "metadata": {},
   "source": [
    "# Approaching Data"
   ]
  },
  {
   "cell_type": "code",
   "execution_count": null,
   "id": "dc4ef3a4",
   "metadata": {},
   "outputs": [],
   "source": []
  }
 ],
 "metadata": {
  "kernelspec": {
   "display_name": ".venv",
   "language": "python",
   "name": "python3"
  },
  "language_info": {
   "name": "python",
   "version": "3.12.4"
  }
 },
 "nbformat": 4,
 "nbformat_minor": 5
}
