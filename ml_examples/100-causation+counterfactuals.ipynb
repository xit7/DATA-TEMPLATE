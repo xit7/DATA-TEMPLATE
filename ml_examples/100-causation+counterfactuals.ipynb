{
 "cells": [
  {
   "cell_type": "markdown",
   "id": "842998c0",
   "metadata": {},
   "source": [
    "# The Ladder of Causation in Business\n",
    "The “Ladder of Causation” (Pearl, 2018) helps distinguish between descriptive, causal, and counterfactual reasoning.\n",
    "\n",
    "> It clarifies whether you’re observing correlations, testing interventions, or reasoning about what could have happened.\n",
    "\n",
    "## Business workflow to “climb the ladder”\n",
    "1. **Start with prediction**: Build a model that predicts conversion → get baseline understanding.\n",
    "2. **Move to interventions**: Validate or run experiments to test key drivers → estimate lift.\n",
    "3. **Use counterfactuals selectively**: Build simulations or SCMs to answer “what if” questions → plan scenarios and policies.\n",
    "\n",
    "| Level | Concept | Question Type | Typical Business Use Case | Example |\n",
    "|:------|:---------|:---------------|:----------------------------|:----------|\n",
    "| **1. Association** | Correlation & pattern recognition | “What is happening?” | Descriptive analytics, dashboards, customer segmentation | Customers who buy A also buy B |\n",
    "| **2. Intervention** | Causal effect of actions | “What if we do X?” | A/B testing, marketing attribution, pricing experiments | What happens to conversion if we increase email frequency? |\n",
    "| **3. Counterfactuals** | Hypothetical alternative outcomes | “What if we had done X instead of Y?” | Customer lifetime impact, churn prevention, ROI simulation | Would customers have churned if we hadn’t raised prices? |\n",
    "\n",
    "## How to Approach Counterfactuals in Practice\n",
    "> Counterfactual reasoning answers **“What would have happened if things were different?**”\n",
    "\n",
    "In analytics, this means carefully defining treatments, outcomes, and confounders to simulate alternative realities.\n",
    "\n",
    "| Step | Goal | Example Question | Typical Method |\n",
    "|:------|:------|:------------------|:----------------|\n",
    "| **1. Define the Treatment** | Identify the action/intervention | “Received the retention email” vs. “Did not receive it” | Binary treatment variable |\n",
    "| **2. Define the Outcome** | Specify what you want to compare | “Customer churned (1/0)” | Dependent variable in regression or model |\n",
    "| **3. Control for Confounders** | Remove bias from non-random assignment | “High-value customers were more likely to get the email” | Propensity score matching, regression adjustment |\n",
    "| **4. Estimate the Effect** | Compute the causal difference | “How did churn probability change due to treatment?” | Average Treatment Effect (ATE) |\n",
    "| **5. Interpret the Counterfactual** | Translate to business insight | “Churn would have been 5% higher without the campaign” | Causal uplift modeling, scenario simulation |\n",
    "\n",
    "### Implementation Checklist\n",
    "| Task | How | Example |\n",
    "|:-----|:----|:--------|\n",
    "| **1. Define variables** | Identify treatment (X), outcome (Y), and covariates (Z) | `X = discount`, `Y = subscription`, `Z = engagement, income` |\n",
    "| **2. Build causal graph** | Draw a DAG or define structural equations to express causal assumptions | `engagement → discount → subscription`, `engagement → subscription` |\n",
    "| **3. Identify causal query** | Express the causal quantity you want (using do-notation or potential outcomes) | `E[Y \\| do(X=1)]` — expected outcome if everyone received a discount; or `ATE = E[Y(1) - Y(0)]` — average treatment effect |\n",
    "| **4. Estimate model** | Choose an estimation method consistent with identification | Propensity score matching, regression adjustment, doubly robust estimators, causal forests (e.g. via DoWhy or EconML) |\n",
    "| **5. Validate / Sensitivity** | Check assumptions and robustness; compare to experiments if available | Placebo tests, covariate balance checks, sensitivity to unobserved confounding, compare with A/B test estimates |\n",
    "| **6. Compute counterfactuals** | Use the abduction → action → prediction procedure on a structural model | Example: “Would user 42 have subscribed without receiving a discount?” |\n"
   ]
  },
  {
   "cell_type": "markdown",
   "id": "8884a8ae",
   "metadata": {},
   "source": [
    "## Example\n",
    "A minimal, but fully runnable and conceptually tied to the above.\n",
    "\n",
    "**Scenario**\n",
    "* A SaaS company offers discounts to some users.\n",
    "* We observe:\n",
    "  * discount (0 or 1)\n",
    "  * engagement (how much they used the trial)\n",
    "  * subscribed (0 or 1 outcome)\n",
    "* **Goal**: estimate the effect of discount and answer a counterfactual question."
   ]
  },
  {
   "cell_type": "code",
   "execution_count": 11,
   "id": "4c930220",
   "metadata": {},
   "outputs": [
    {
     "data": {
      "application/vnd.microsoft.datawrangler.viewer.v0+json": {
       "columns": [
        {
         "name": "index",
         "rawType": "int64",
         "type": "integer"
        },
        {
         "name": "engagement",
         "rawType": "float64",
         "type": "float"
        },
        {
         "name": "discount",
         "rawType": "int64",
         "type": "integer"
        },
        {
         "name": "subscribed",
         "rawType": "int64",
         "type": "integer"
        }
       ],
       "ref": "ad662b20-6b26-4dd2-8f87-feb7c1ba3678",
       "rows": [
        [
         "0",
         "0.4967141530112327",
         "1",
         "1"
        ],
        [
         "1",
         "-0.13826430117118466",
         "0",
         "0"
        ],
        [
         "2",
         "0.6476885381006925",
         "0",
         "1"
        ],
        [
         "3",
         "1.5230298564080254",
         "0",
         "1"
        ],
        [
         "4",
         "-0.23415337472333597",
         "0",
         "1"
        ]
       ],
       "shape": {
        "columns": 3,
        "rows": 5
       }
      },
      "text/html": [
       "<div>\n",
       "<style scoped>\n",
       "    .dataframe tbody tr th:only-of-type {\n",
       "        vertical-align: middle;\n",
       "    }\n",
       "\n",
       "    .dataframe tbody tr th {\n",
       "        vertical-align: top;\n",
       "    }\n",
       "\n",
       "    .dataframe thead th {\n",
       "        text-align: right;\n",
       "    }\n",
       "</style>\n",
       "<table border=\"1\" class=\"dataframe\">\n",
       "  <thead>\n",
       "    <tr style=\"text-align: right;\">\n",
       "      <th></th>\n",
       "      <th>engagement</th>\n",
       "      <th>discount</th>\n",
       "      <th>subscribed</th>\n",
       "    </tr>\n",
       "  </thead>\n",
       "  <tbody>\n",
       "    <tr>\n",
       "      <th>0</th>\n",
       "      <td>0.496714</td>\n",
       "      <td>1</td>\n",
       "      <td>1</td>\n",
       "    </tr>\n",
       "    <tr>\n",
       "      <th>1</th>\n",
       "      <td>-0.138264</td>\n",
       "      <td>0</td>\n",
       "      <td>0</td>\n",
       "    </tr>\n",
       "    <tr>\n",
       "      <th>2</th>\n",
       "      <td>0.647689</td>\n",
       "      <td>0</td>\n",
       "      <td>1</td>\n",
       "    </tr>\n",
       "    <tr>\n",
       "      <th>3</th>\n",
       "      <td>1.523030</td>\n",
       "      <td>0</td>\n",
       "      <td>1</td>\n",
       "    </tr>\n",
       "    <tr>\n",
       "      <th>4</th>\n",
       "      <td>-0.234153</td>\n",
       "      <td>0</td>\n",
       "      <td>1</td>\n",
       "    </tr>\n",
       "  </tbody>\n",
       "</table>\n",
       "</div>"
      ],
      "text/plain": [
       "   engagement  discount  subscribed\n",
       "0    0.496714         1           1\n",
       "1   -0.138264         0           0\n",
       "2    0.647689         0           1\n",
       "3    1.523030         0           1\n",
       "4   -0.234153         0           1"
      ]
     },
     "execution_count": 11,
     "metadata": {},
     "output_type": "execute_result"
    }
   ],
   "source": [
    "# %% Install libraries (if needed)\n",
    "#%pip install dowhy pandas numpy matplotlib\n",
    "\n",
    "import numpy as np\n",
    "import pandas as pd\n",
    "import matplotlib.pyplot as plt\n",
    "import dowhy\n",
    "from sklearn.linear_model import LogisticRegression\n",
    "from sklearn.model_selection import train_test_split\n",
    "from dowhy import CausalModel\n",
    "\n",
    "# 1️⃣ Simulate simple business data\n",
    "np.random.seed(42)\n",
    "n = 1000\n",
    "\n",
    "# Engagement drives both discount targeting and subscription\n",
    "engagement = np.random.normal(0, 1, n)\n",
    "\n",
    "# Higher engagement increases chance of being offered a discount (targeting bias)\n",
    "p_discount = 1 / (1 + np.exp(- (0.5 * engagement - 0.2)))\n",
    "discount = np.random.binomial(1, p_discount)\n",
    "\n",
    "# True causal effect of discount on subscription = +0.2\n",
    "# Engagement also increases subscription\n",
    "p_subscribe = 1 / (1 + np.exp(- (1.0 * engagement + 0.8 * discount - 0.5)))\n",
    "subscribed = np.random.binomial(1, p_subscribe)\n",
    "\n",
    "df = pd.DataFrame({\n",
    "    \"engagement\": engagement,\n",
    "    \"discount\": discount,\n",
    "    \"subscribed\": subscribed\n",
    "})\n",
    "\n",
    "df.head()"
   ]
  },
  {
   "cell_type": "code",
   "execution_count": 12,
   "id": "d03835b0",
   "metadata": {},
   "outputs": [
    {
     "data": {
      "image/png": "[encoded data removed]",
      "text/plain": [
       "<Figure size 800x600 with 1 Axes>"
      ]
     },
     "metadata": {},
     "output_type": "display_data"
    }
   ],
   "source": [
    "# 2️⃣ Define and visualize causal graph\n",
    "\n",
    "causal_graph = \"\"\"\n",
    "digraph {\n",
    "engagement -> discount;\n",
    "engagement -> subscribed;\n",
    "discount -> subscribed;\n",
    "}\n",
    "\"\"\"\n",
    "\n",
    "# 3️⃣ Build the causal model\n",
    "model = CausalModel(\n",
    "    data=df,\n",
    "    treatment=\"discount\",\n",
    "    outcome=\"subscribed\",\n",
    "    graph=causal_graph\n",
    ")\n",
    "model.view_model()"
   ]
  },
  {
   "cell_type": "code",
   "execution_count": 13,
   "id": "b05b6330",
   "metadata": {},
   "outputs": [
    {
     "name": "stdout",
     "output_type": "stream",
     "text": [
      "DoWhy ATE estimate: 0.173\n",
      "User index 5 predicted P(subscribe | discount=1): 0.529\n",
      "User index 5 predicted P(subscribe | discount=0): 0.296\n",
      "Estimated individual uplift (treatment effect approx): 0.233\n"
     ]
    }
   ],
   "source": [
    "identified_estimand = model.identify_effect()\n",
    "estimate = model.estimate_effect(identified_estimand,\n",
    "                                 method_name=\"backdoor.propensity_score_matching\")\n",
    "print(\"DoWhy ATE estimate:\", estimate.value)\n",
    "\n",
    "# 2) Train a straightforward outcome model P(Y | X, Z)\n",
    "X = df[[\"discount\", \"engagement\"]]  # treatment + covariates\n",
    "y = df[\"subscribed\"]\n",
    "\n",
    "X_train, X_test, y_train, y_test = train_test_split(X, y, test_size=0.2, random_state=1)\n",
    "clf = LogisticRegression(solver=\"lbfgs\", max_iter=1000)\n",
    "clf.fit(X_train, y_train)\n",
    "\n",
    "# 3) Choose a specific user (index 5 in this example) and compute potential outcomes\n",
    "user = df.iloc[5:6]   # keep as DataFrame\n",
    "user_z = user[[\"engagement\"]].copy()\n",
    "\n",
    "# Build two rows for treatment=1 and treatment=0\n",
    "user_t1 = pd.DataFrame({\"discount\": [1], \"engagement\": user_z[\"engagement\"].values})\n",
    "user_t0 = pd.DataFrame({\"discount\": [0], \"engagement\": user_z[\"engagement\"].values})\n",
    "\n",
    "p_t1 = clf.predict_proba(user_t1)[0,1]  # P(Y=1 | do/assume X=1, Z)\n",
    "p_t0 = clf.predict_proba(user_t0)[0,1]  # P(Y=1 | do/assume X=0, Z)\n",
    "\n",
    "print(f\"User index {user.index[0]} predicted P(subscribe | discount=1): {p_t1:.3f}\")\n",
    "print(f\"User index {user.index[0]} predicted P(subscribe | discount=0): {p_t0:.3f}\")\n",
    "print(f\"Estimated individual uplift (treatment effect approx): {p_t1 - p_t0:.3f}\")"
   ]
  },
  {
   "cell_type": "markdown",
   "id": "edd7e40a",
   "metadata": {},
   "source": [
    "**Interpretation & Limitations**\n",
    "* This gives you two potential outcome probabilities for the same user under X=1 and X=0.\n",
    "* It’s an approximation of the counterfactual — valid only if you have correctly measured confounders (no hidden confounders).\n",
    "* It follows the plug-in approach, not the full abduction-action-prediction workflow of structural counterfactuals."
   ]
  },
  {
   "cell_type": "markdown",
   "id": "7e7ce07d",
   "metadata": {},
   "source": [
    "# References\n",
    "https://chatgpt.com/g/g-p-68d0f0e9c9188191be281faa1bb4a646-adb/c/68e9ed3a-0164-832e-95d8-2f3764668c85"
   ]
  }
 ],
 "metadata": {
  "kernelspec": {
   "display_name": ".venv",
   "language": "python",
   "name": "python3"
  },
  "language_info": {
   "codemirror_mode": {
    "name": "ipython",
    "version": 3
   },
   "file_extension": ".py",
   "mimetype": "text/x-python",
   "name": "python",
   "nbconvert_exporter": "python",
   "pygments_lexer": "ipython3",
   "version": "3.11.3"
  }
 },
 "nbformat": 4,
 "nbformat_minor": 5
}
