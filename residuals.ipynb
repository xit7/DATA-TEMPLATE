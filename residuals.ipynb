{
 "cells": [
  {
   "cell_type": "code",
   "execution_count": null,
   "id": "d7371bca",
   "metadata": {
    "vscode": {
     "languageId": "plaintext"
    }
   },
   "outputs": [],
   "source": [
    "import numpy as np\n",
    "import matplotlib.pyplot as plt\n",
    "\n",
    "# Sample data\n",
    "x = np.array([1, 2, 3])\n",
    "y_actual = np.array([3, 4, 9])\n",
    "y_predicted = 2 * x + 1\n",
    "\n",
    "# Residuals\n",
    "residuals = y_actual - y_predicted\n",
    "print(\"Residuals:\", residuals)\n",
    "\n",
    "# Quick plot\n",
    "plt.scatter(x, y_actual, label='Actual', color='blue')\n",
    "plt.plot(x, y_predicted, label='Prediction Line', color='orange')\n",
    "for i in range(len(x)):\n",
    "    plt.vlines(x[i], y_predicted[i], y_actual[i], color='red', linestyle='dotted')  # Residual lines\n",
    "\n",
    "plt.legend()\n",
    "plt.title(\"Residuals Visualization\")\n",
    "plt.xlabel(\"x\")\n",
    "plt.ylabel(\"y\")\n",
    "plt.grid(True)\n",
    "plt.show()"
   ]
  }
 ],
 "metadata": {
  "language_info": {
   "name": "python"
  }
 },
 "nbformat": 4,
 "nbformat_minor": 5
}
