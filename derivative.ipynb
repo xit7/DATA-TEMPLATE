import numpy as np
import matplotlib.pyplot as plt

# Define the x range
x = np.linspace(-3, 3, 300)

# Original function and its derivatives
f = x**3 - 3*x
f_prime = 3*x**2 - 3
f_double_prime = 6*x

# Plot all three
plt.figure(figsize=(10, 6))
plt.plot(x, f, label="f(x) = x³ - 3x", color="blue")
plt.plot(x, f_prime, label="f'(x) = 3x² - 3", color="green", linestyle="--")
plt.plot(x, f_double_prime, label="f''(x) = 6x", color="red", linestyle=":")

# Add horizontal line at y=0 for reference
plt.axhline(0, color='black', linewidth=0.5)

plt.title("Function and its Derivatives")
plt.xlabel("x")
plt.ylabel("y")
plt.legend()
plt.grid(True)
plt.show()